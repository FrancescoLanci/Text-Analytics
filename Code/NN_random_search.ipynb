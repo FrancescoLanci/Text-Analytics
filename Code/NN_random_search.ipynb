{
 "cells": [
  {
   "cell_type": "code",
   "execution_count": 1,
   "id": "246a5682",
   "metadata": {},
   "outputs": [],
   "source": [
    "import functions\n",
    "import pandas as pd\n",
    "import numpy as np\n",
    "import matplotlib.pyplot as plt\n",
    "import gensim"
   ]
  },
  {
   "cell_type": "code",
   "execution_count": 2,
   "id": "b4150dc8",
   "metadata": {},
   "outputs": [],
   "source": [
    "df = pd.read_csv(\"data/original_data.csv\")"
   ]
  },
  {
   "cell_type": "code",
   "execution_count": 3,
   "id": "5dfe792a",
   "metadata": {},
   "outputs": [
    {
     "data": {
      "text/html": [
       "<div>\n",
       "<style scoped>\n",
       "    .dataframe tbody tr th:only-of-type {\n",
       "        vertical-align: middle;\n",
       "    }\n",
       "\n",
       "    .dataframe tbody tr th {\n",
       "        vertical-align: top;\n",
       "    }\n",
       "\n",
       "    .dataframe thead th {\n",
       "        text-align: right;\n",
       "    }\n",
       "</style>\n",
       "<table border=\"1\" class=\"dataframe\">\n",
       "  <thead>\n",
       "    <tr style=\"text-align: right;\">\n",
       "      <th></th>\n",
       "      <th>id</th>\n",
       "      <th>movie_name</th>\n",
       "      <th>synopsis</th>\n",
       "      <th>genre</th>\n",
       "    </tr>\n",
       "  </thead>\n",
       "  <tbody>\n",
       "    <tr>\n",
       "      <th>39841</th>\n",
       "      <td>8315</td>\n",
       "      <td>Tommy Atkins</td>\n",
       "      <td>A cleric enlists on learning he loves his brot...</td>\n",
       "      <td>action</td>\n",
       "    </tr>\n",
       "    <tr>\n",
       "      <th>22314</th>\n",
       "      <td>4958</td>\n",
       "      <td>Hostage</td>\n",
       "      <td>When a family is held hostage, former hostage ...</td>\n",
       "      <td>action</td>\n",
       "    </tr>\n",
       "    <tr>\n",
       "      <th>33001</th>\n",
       "      <td>21828</td>\n",
       "      <td>Eternity Island</td>\n",
       "      <td>Details kept under wrap.</td>\n",
       "      <td>crime</td>\n",
       "    </tr>\n",
       "    <tr>\n",
       "      <th>6291</th>\n",
       "      <td>66791</td>\n",
       "      <td>69 Reality in Us</td>\n",
       "      <td>A Twisted triangle love, where a man feels the...</td>\n",
       "      <td>romance</td>\n",
       "    </tr>\n",
       "    <tr>\n",
       "      <th>1256</th>\n",
       "      <td>26554</td>\n",
       "      <td>Goodnight, Sweetheart</td>\n",
       "      <td>A journalist attacks the campaign of a mayoral...</td>\n",
       "      <td>crime</td>\n",
       "    </tr>\n",
       "    <tr>\n",
       "      <th>...</th>\n",
       "      <td>...</td>\n",
       "      <td>...</td>\n",
       "      <td>...</td>\n",
       "      <td>...</td>\n",
       "    </tr>\n",
       "    <tr>\n",
       "      <th>7115</th>\n",
       "      <td>11151</td>\n",
       "      <td>Mr. Moon</td>\n",
       "      <td>Mr. Dennis Hope, the man who actually owns the...</td>\n",
       "      <td>adventure</td>\n",
       "    </tr>\n",
       "    <tr>\n",
       "      <th>49426</th>\n",
       "      <td>65700</td>\n",
       "      <td>Ben &amp; Arthur</td>\n",
       "      <td>A pair of recently married gay men are threate...</td>\n",
       "      <td>romance</td>\n",
       "    </tr>\n",
       "    <tr>\n",
       "      <th>50639</th>\n",
       "      <td>49827</td>\n",
       "      <td>Death Club</td>\n",
       "      <td>After five friends break into a shut down, aba...</td>\n",
       "      <td>horror</td>\n",
       "    </tr>\n",
       "    <tr>\n",
       "      <th>45494</th>\n",
       "      <td>85181</td>\n",
       "      <td>O Homem dos Olhos Tortos</td>\n",
       "      <td>A gang of criminals is persecuted by two detec...</td>\n",
       "      <td>thriller</td>\n",
       "    </tr>\n",
       "    <tr>\n",
       "      <th>50880</th>\n",
       "      <td>11458</td>\n",
       "      <td>Princess Arete</td>\n",
       "      <td>Confined in the castle tower by her father, Pr...</td>\n",
       "      <td>adventure</td>\n",
       "    </tr>\n",
       "  </tbody>\n",
       "</table>\n",
       "<p>43200 rows × 4 columns</p>\n",
       "</div>"
      ],
      "text/plain": [
       "          id                movie_name  \\\n",
       "39841   8315              Tommy Atkins   \n",
       "22314   4958                   Hostage   \n",
       "33001  21828           Eternity Island   \n",
       "6291   66791          69 Reality in Us   \n",
       "1256   26554     Goodnight, Sweetheart   \n",
       "...      ...                       ...   \n",
       "7115   11151                  Mr. Moon   \n",
       "49426  65700              Ben & Arthur   \n",
       "50639  49827                Death Club   \n",
       "45494  85181  O Homem dos Olhos Tortos   \n",
       "50880  11458            Princess Arete   \n",
       "\n",
       "                                                synopsis      genre  \n",
       "39841  A cleric enlists on learning he loves his brot...     action  \n",
       "22314  When a family is held hostage, former hostage ...     action  \n",
       "33001                           Details kept under wrap.      crime  \n",
       "6291   A Twisted triangle love, where a man feels the...    romance  \n",
       "1256   A journalist attacks the campaign of a mayoral...      crime  \n",
       "...                                                  ...        ...  \n",
       "7115   Mr. Dennis Hope, the man who actually owns the...  adventure  \n",
       "49426  A pair of recently married gay men are threate...    romance  \n",
       "50639  After five friends break into a shut down, aba...     horror  \n",
       "45494  A gang of criminals is persecuted by two detec...   thriller  \n",
       "50880  Confined in the castle tower by her father, Pr...  adventure  \n",
       "\n",
       "[43200 rows x 4 columns]"
      ]
     },
     "execution_count": 3,
     "metadata": {},
     "output_type": "execute_result"
    }
   ],
   "source": [
    "from sklearn.model_selection import train_test_split\n",
    "\n",
    "df_train, df_test = train_test_split(df, test_size=0.2, random_state=0, stratify=df['genre'])\n",
    "df_train"
   ]
  },
  {
   "cell_type": "code",
   "execution_count": 4,
   "id": "6853e96f",
   "metadata": {},
   "outputs": [
    {
     "name": "stderr",
     "output_type": "stream",
     "text": [
      "[nltk_data] Downloading package wordnet to\n",
      "[nltk_data]     C:\\Users\\gabri\\AppData\\Roaming\\nltk_data...\n",
      "[nltk_data]   Package wordnet is already up-to-date!\n",
      "[nltk_data] Downloading package omw-1.4 to\n",
      "[nltk_data]     C:\\Users\\gabri\\AppData\\Roaming\\nltk_data...\n",
      "[nltk_data]   Package omw-1.4 is already up-to-date!\n"
     ]
    },
    {
     "name": "stdout",
     "output_type": "stream",
     "text": [
      "[0 0 2 ... 5 9 1]\n",
      "['family', 'held', 'hostage', 'hostage', 'negotiator', 'jeff', 'talley', 'arrives', 'scene', 'talley', 'family', 'kidnapped', 'talley', 'decide', 'important', 'saving', 'family', 'doesn', 'know', 'saving', 'family']\n"
     ]
    }
   ],
   "source": [
    "#all the preprocessing for the training\n",
    "df_train, x_train = functions.preprocessing(df=df_train, remove_useless_sentences = True, is_train = True, tokenize=True, remove_one_characters=True, lemmatize=True, remove_stop_words=True)\n",
    "y_train = functions.target_variable(df_train, 'genre')\n",
    "print(y_train)\n",
    "print(x_train[1])"
   ]
  },
  {
   "cell_type": "code",
   "execution_count": 5,
   "id": "001c693f",
   "metadata": {},
   "outputs": [
    {
     "name": "stderr",
     "output_type": "stream",
     "text": [
      "[nltk_data] Downloading package wordnet to\n",
      "[nltk_data]     C:\\Users\\gabri\\AppData\\Roaming\\nltk_data...\n",
      "[nltk_data]   Package wordnet is already up-to-date!\n",
      "[nltk_data] Downloading package omw-1.4 to\n",
      "[nltk_data]     C:\\Users\\gabri\\AppData\\Roaming\\nltk_data...\n",
      "[nltk_data]   Package omw-1.4 is already up-to-date!\n"
     ]
    },
    {
     "data": {
      "text/plain": [
       "['tara',\n",
       " 'love',\n",
       " 'krishna',\n",
       " 'college',\n",
       " 'friend',\n",
       " 'doe',\n",
       " 'reciprocate',\n",
       " 'feeling',\n",
       " 'thing',\n",
       " 'turn',\n",
       " 'krishna',\n",
       " 'fall',\n",
       " 'love',\n",
       " 'lizy']"
      ]
     },
     "execution_count": 5,
     "metadata": {},
     "output_type": "execute_result"
    }
   ],
   "source": [
    "#all the possible preprocessing for the training\n",
    "df_test, x_test = functions.preprocessing(df=df_test, remove_useless_sentences = True, tokenize=True, remove_one_characters=True, lemmatize=True, remove_stop_words=True)\n",
    "y_test = functions.target_variable(df_test, 'genre')\n",
    "x_test[1]"
   ]
  },
  {
   "cell_type": "code",
   "execution_count": 6,
   "id": "f38cfab8",
   "metadata": {},
   "outputs": [],
   "source": [
    "def gensim_cleaner_ALT(original_docs, dictionary_creation=False, dictionary={}):\n",
    "    import csv\n",
    "    from nltk.tokenize import RegexpTokenizer\n",
    "    from nltk.stem.wordnet import WordNetLemmatizer\n",
    "    from gensim.models import Phrases\n",
    "    from spacy.lang.en.stop_words import STOP_WORDS\n",
    "    import nltk\n",
    "    import gensim\n",
    "    \n",
    "    # Tokenize the documents.\n",
    "    docs = []\n",
    "\n",
    "    # Split the documents into tokens.\n",
    "    tokenizer = RegexpTokenizer(r'\\w+')\n",
    "    for idx in range(len(original_docs)):\n",
    "        docs.append(original_docs[idx].lower())  # Convert to lowercase.\n",
    "        docs[idx] = tokenizer.tokenize(docs[idx])  # Split into words.\n",
    "\n",
    "    # Remove numbers, but not words that contain numbers.\n",
    "    docs = [[token for token in doc if not token.isnumeric()] for doc in docs]\n",
    "\n",
    "    # Remove words that are only one character.\n",
    "    docs = [[token for token in doc if len(token) > 1] for doc in docs]\n",
    "    # Lemmatize the documents.\n",
    "    lemmatizer = WordNetLemmatizer()\n",
    "    docs = [[lemmatizer.lemmatize(token) for token in doc] for doc in docs]\n",
    "\n",
    "    # Compute bigrams.\n",
    "    # Add bigrams to docs (only ones that appear 20 times or more).\n",
    "    bigram = Phrases(docs, min_count=20)\n",
    "    for idx in range(len(docs)):\n",
    "        for token in bigram[docs[idx]]:\n",
    "            if '_' in token:\n",
    "                # Token is a bigram, add to document.\n",
    "                docs[idx].append(token)\n",
    "\n",
    "    ## Remove numbers, but not words that contain numbers.\n",
    "    docs = [[token for token in doc if not token.isnumeric()] for doc in docs]\n",
    "\n",
    "    ## Remove words that are only one character.\n",
    "    docs = [[token for token in doc if len(token) > 1] for doc in docs]\n",
    "\n",
    "    ## Remove standard stopwords (SPACY)\n",
    "    docs = [[token for token in doc if token not in list(STOP_WORDS)] for doc in docs]\n",
    "\n",
    "    ## Remove rare and common tokens.\n",
    "    if dictionary_creation == True:\n",
    "        from gensim.corpora import Dictionary\n",
    "\n",
    "        # Create a dictionary representation of the documents.\n",
    "        dictionary = Dictionary(docs)\n",
    "\n",
    "        print(\"Dictionary lenght 1):\", len(dictionary))\n",
    "\n",
    "        # Filter out words that occur less than 5 documents, or more than 40% of the documents.\n",
    "        dictionary.filter_extremes(no_below=5, no_above=0.4)\n",
    "\n",
    "        print(\"Dictionary lenght 2):\",len(dictionary))\n",
    "    \n",
    "    # Bag-of-words representation of the documents.\n",
    "    corpus = [dictionary.doc2bow(doc) for doc in docs]\n",
    "\n",
    "    print('-------------')\n",
    "    print('Number of unique tokens: %d' % len(dictionary))\n",
    "    print('Number of documents: %d' % len(corpus))\n",
    "\n",
    "    return corpus, dictionary"
   ]
  },
  {
   "cell_type": "code",
   "execution_count": 7,
   "id": "a737a672",
   "metadata": {},
   "outputs": [
    {
     "name": "stdout",
     "output_type": "stream",
     "text": [
      "Dictionary lenght 1): 37366\n",
      "Dictionary lenght 2): 11037\n",
      "-------------\n",
      "Number of unique tokens: 11037\n",
      "Number of documents: 42979\n"
     ]
    }
   ],
   "source": [
    "# Custom fnction\n",
    "corpus_train, dictionary = gensim_cleaner_ALT(df_train['synopsis'], dictionary_creation=True)"
   ]
  },
  {
   "cell_type": "code",
   "execution_count": 8,
   "id": "e4006929",
   "metadata": {},
   "outputs": [
    {
     "name": "stdout",
     "output_type": "stream",
     "text": [
      "brother (0, 1)\n",
      "cleric (1, 1)\n",
      "earl (2, 1)\n",
      "enlists (3, 1)\n",
      "find (4, 1)\n",
      "learning (5, 1)\n",
      "life (6, 1)\n",
      "love (7, 1)\n",
      "save (8, 1)\n",
      "sweetheart (9, 1)\n"
     ]
    }
   ],
   "source": [
    "for key, idxinfo in zip([dictionary[w[0]] for w in corpus_train[0]], corpus_train[0]):\n",
    "    print (key, idxinfo)"
   ]
  },
  {
   "cell_type": "code",
   "execution_count": 9,
   "id": "2985cc09",
   "metadata": {},
   "outputs": [
    {
     "name": "stdout",
     "output_type": "stream",
     "text": [
      "Number of unique tokens: 11037\n",
      "Number of documents: 42979\n"
     ]
    }
   ],
   "source": [
    "print('Number of unique tokens: %d' % len(dictionary))\n",
    "print('Number of documents: %d' % len(corpus_train))"
   ]
  },
  {
   "cell_type": "code",
   "execution_count": 10,
   "id": "3f4c7482",
   "metadata": {},
   "outputs": [],
   "source": [
    "synopsis = df_train['synopsis']"
   ]
  },
  {
   "cell_type": "code",
   "execution_count": 11,
   "id": "069bd45b",
   "metadata": {},
   "outputs": [
    {
     "name": "stdout",
     "output_type": "stream",
     "text": [
      "(11037, 42979)\n"
     ]
    },
    {
     "data": {
      "text/plain": [
       "array([[1., 0., 0., ..., 0., 0., 0.],\n",
       "       [1., 0., 0., ..., 0., 0., 0.],\n",
       "       [1., 0., 0., ..., 0., 0., 0.],\n",
       "       ...,\n",
       "       [0., 0., 0., ..., 0., 0., 0.],\n",
       "       [0., 0., 0., ..., 0., 0., 0.],\n",
       "       [0., 0., 0., ..., 0., 0., 0.]], dtype=float32)"
      ]
     },
     "execution_count": 11,
     "metadata": {},
     "output_type": "execute_result"
    }
   ],
   "source": [
    "# using the bags of words\n",
    "numpy_matrix = gensim.matutils.corpus2dense(corpus_train, num_terms = len(dictionary))\n",
    "print(numpy_matrix.shape)\n",
    "numpy_matrix"
   ]
  },
  {
   "cell_type": "code",
   "execution_count": 12,
   "id": "25271eca",
   "metadata": {},
   "outputs": [
    {
     "data": {
      "text/html": [
       "<div>\n",
       "<style scoped>\n",
       "    .dataframe tbody tr th:only-of-type {\n",
       "        vertical-align: middle;\n",
       "    }\n",
       "\n",
       "    .dataframe tbody tr th {\n",
       "        vertical-align: top;\n",
       "    }\n",
       "\n",
       "    .dataframe thead th {\n",
       "        text-align: right;\n",
       "    }\n",
       "</style>\n",
       "<table border=\"1\" class=\"dataframe\">\n",
       "  <thead>\n",
       "    <tr style=\"text-align: right;\">\n",
       "      <th></th>\n",
       "      <th>brother</th>\n",
       "      <th>cleric</th>\n",
       "      <th>earl</th>\n",
       "      <th>enlists</th>\n",
       "      <th>find</th>\n",
       "      <th>learning</th>\n",
       "      <th>life</th>\n",
       "      <th>love</th>\n",
       "      <th>save</th>\n",
       "      <th>sweetheart</th>\n",
       "      <th>...</th>\n",
       "      <th>halt</th>\n",
       "      <th>resurrects</th>\n",
       "      <th>waning</th>\n",
       "      <th>papua</th>\n",
       "      <th>taiwanese</th>\n",
       "      <th>greene</th>\n",
       "      <th>offline</th>\n",
       "      <th>yeong</th>\n",
       "      <th>perpetrated</th>\n",
       "      <th>cosmopolitan</th>\n",
       "    </tr>\n",
       "    <tr>\n",
       "      <th>synopsis</th>\n",
       "      <th></th>\n",
       "      <th></th>\n",
       "      <th></th>\n",
       "      <th></th>\n",
       "      <th></th>\n",
       "      <th></th>\n",
       "      <th></th>\n",
       "      <th></th>\n",
       "      <th></th>\n",
       "      <th></th>\n",
       "      <th></th>\n",
       "      <th></th>\n",
       "      <th></th>\n",
       "      <th></th>\n",
       "      <th></th>\n",
       "      <th></th>\n",
       "      <th></th>\n",
       "      <th></th>\n",
       "      <th></th>\n",
       "      <th></th>\n",
       "      <th></th>\n",
       "    </tr>\n",
       "  </thead>\n",
       "  <tbody>\n",
       "    <tr>\n",
       "      <th>A cleric enlists on learning he loves his brother's sweetheart, saves his life, and finds he is really an Earl.</th>\n",
       "      <td>1.0</td>\n",
       "      <td>1.0</td>\n",
       "      <td>1.0</td>\n",
       "      <td>1.0</td>\n",
       "      <td>1.0</td>\n",
       "      <td>1.0</td>\n",
       "      <td>1.0</td>\n",
       "      <td>1.0</td>\n",
       "      <td>1.0</td>\n",
       "      <td>1.0</td>\n",
       "      <td>...</td>\n",
       "      <td>0.0</td>\n",
       "      <td>0.0</td>\n",
       "      <td>0.0</td>\n",
       "      <td>0.0</td>\n",
       "      <td>0.0</td>\n",
       "      <td>0.0</td>\n",
       "      <td>0.0</td>\n",
       "      <td>0.0</td>\n",
       "      <td>0.0</td>\n",
       "      <td>0.0</td>\n",
       "    </tr>\n",
       "    <tr>\n",
       "      <th>When a family is held hostage, former hostage negotiator Jeff Talley arrives at the scene. Talley's own family is kidnapped and Talley must decide which is more important: saving a family he doesn't even know or saving his own family.</th>\n",
       "      <td>0.0</td>\n",
       "      <td>0.0</td>\n",
       "      <td>0.0</td>\n",
       "      <td>0.0</td>\n",
       "      <td>0.0</td>\n",
       "      <td>0.0</td>\n",
       "      <td>0.0</td>\n",
       "      <td>0.0</td>\n",
       "      <td>0.0</td>\n",
       "      <td>0.0</td>\n",
       "      <td>...</td>\n",
       "      <td>0.0</td>\n",
       "      <td>0.0</td>\n",
       "      <td>0.0</td>\n",
       "      <td>0.0</td>\n",
       "      <td>0.0</td>\n",
       "      <td>0.0</td>\n",
       "      <td>0.0</td>\n",
       "      <td>0.0</td>\n",
       "      <td>0.0</td>\n",
       "      <td>0.0</td>\n",
       "    </tr>\n",
       "  </tbody>\n",
       "</table>\n",
       "<p>2 rows × 11037 columns</p>\n",
       "</div>"
      ],
      "text/plain": [
       "                                                    brother  cleric  earl  \\\n",
       "synopsis                                                                    \n",
       "A cleric enlists on learning he loves his broth...      1.0     1.0   1.0   \n",
       "When a family is held hostage, former hostage n...      0.0     0.0   0.0   \n",
       "\n",
       "                                                    enlists  find  learning  \\\n",
       "synopsis                                                                      \n",
       "A cleric enlists on learning he loves his broth...      1.0   1.0       1.0   \n",
       "When a family is held hostage, former hostage n...      0.0   0.0       0.0   \n",
       "\n",
       "                                                    life  love  save  \\\n",
       "synopsis                                                               \n",
       "A cleric enlists on learning he loves his broth...   1.0   1.0   1.0   \n",
       "When a family is held hostage, former hostage n...   0.0   0.0   0.0   \n",
       "\n",
       "                                                    sweetheart  ...  halt  \\\n",
       "synopsis                                                        ...         \n",
       "A cleric enlists on learning he loves his broth...         1.0  ...   0.0   \n",
       "When a family is held hostage, former hostage n...         0.0  ...   0.0   \n",
       "\n",
       "                                                    resurrects  waning  papua  \\\n",
       "synopsis                                                                        \n",
       "A cleric enlists on learning he loves his broth...         0.0     0.0    0.0   \n",
       "When a family is held hostage, former hostage n...         0.0     0.0    0.0   \n",
       "\n",
       "                                                    taiwanese  greene  \\\n",
       "synopsis                                                                \n",
       "A cleric enlists on learning he loves his broth...        0.0     0.0   \n",
       "When a family is held hostage, former hostage n...        0.0     0.0   \n",
       "\n",
       "                                                    offline  yeong  \\\n",
       "synopsis                                                             \n",
       "A cleric enlists on learning he loves his broth...      0.0    0.0   \n",
       "When a family is held hostage, former hostage n...      0.0    0.0   \n",
       "\n",
       "                                                    perpetrated  cosmopolitan  \n",
       "synopsis                                                                       \n",
       "A cleric enlists on learning he loves his broth...          0.0           0.0  \n",
       "When a family is held hostage, former hostage n...          0.0           0.0  \n",
       "\n",
       "[2 rows x 11037 columns]"
      ]
     },
     "execution_count": 12,
     "metadata": {},
     "output_type": "execute_result"
    }
   ],
   "source": [
    "df_c2d = pd.DataFrame(numpy_matrix, index = [k for k,v in dictionary.token2id.items()], columns = synopsis)\n",
    "df_c2d.T.head(2)"
   ]
  },
  {
   "cell_type": "code",
   "execution_count": 13,
   "id": "c09523ad",
   "metadata": {},
   "outputs": [
    {
     "data": {
      "text/html": [
       "<div>\n",
       "<style scoped>\n",
       "    .dataframe tbody tr th:only-of-type {\n",
       "        vertical-align: middle;\n",
       "    }\n",
       "\n",
       "    .dataframe tbody tr th {\n",
       "        vertical-align: top;\n",
       "    }\n",
       "\n",
       "    .dataframe thead th {\n",
       "        text-align: right;\n",
       "    }\n",
       "</style>\n",
       "<table border=\"1\" class=\"dataframe\">\n",
       "  <thead>\n",
       "    <tr style=\"text-align: right;\">\n",
       "      <th></th>\n",
       "      <th>brother</th>\n",
       "      <th>cleric</th>\n",
       "      <th>earl</th>\n",
       "      <th>enlists</th>\n",
       "      <th>find</th>\n",
       "      <th>learning</th>\n",
       "      <th>life</th>\n",
       "      <th>love</th>\n",
       "      <th>save</th>\n",
       "      <th>sweetheart</th>\n",
       "      <th>...</th>\n",
       "      <th>resurrects</th>\n",
       "      <th>waning</th>\n",
       "      <th>papua</th>\n",
       "      <th>taiwanese</th>\n",
       "      <th>greene</th>\n",
       "      <th>offline</th>\n",
       "      <th>yeong</th>\n",
       "      <th>perpetrated</th>\n",
       "      <th>cosmopolitan</th>\n",
       "      <th>label</th>\n",
       "    </tr>\n",
       "    <tr>\n",
       "      <th>synopsis</th>\n",
       "      <th></th>\n",
       "      <th></th>\n",
       "      <th></th>\n",
       "      <th></th>\n",
       "      <th></th>\n",
       "      <th></th>\n",
       "      <th></th>\n",
       "      <th></th>\n",
       "      <th></th>\n",
       "      <th></th>\n",
       "      <th></th>\n",
       "      <th></th>\n",
       "      <th></th>\n",
       "      <th></th>\n",
       "      <th></th>\n",
       "      <th></th>\n",
       "      <th></th>\n",
       "      <th></th>\n",
       "      <th></th>\n",
       "      <th></th>\n",
       "      <th></th>\n",
       "    </tr>\n",
       "  </thead>\n",
       "  <tbody>\n",
       "    <tr>\n",
       "      <th>A cleric enlists on learning he loves his brother's sweetheart, saves his life, and finds he is really an Earl.</th>\n",
       "      <td>1.0</td>\n",
       "      <td>1.0</td>\n",
       "      <td>1.0</td>\n",
       "      <td>1.0</td>\n",
       "      <td>1.0</td>\n",
       "      <td>1.0</td>\n",
       "      <td>1.0</td>\n",
       "      <td>1.0</td>\n",
       "      <td>1.0</td>\n",
       "      <td>1.0</td>\n",
       "      <td>...</td>\n",
       "      <td>0.0</td>\n",
       "      <td>0.0</td>\n",
       "      <td>0.0</td>\n",
       "      <td>0.0</td>\n",
       "      <td>0.0</td>\n",
       "      <td>0.0</td>\n",
       "      <td>0.0</td>\n",
       "      <td>0.0</td>\n",
       "      <td>0.0</td>\n",
       "      <td>action</td>\n",
       "    </tr>\n",
       "    <tr>\n",
       "      <th>When a family is held hostage, former hostage negotiator Jeff Talley arrives at the scene. Talley's own family is kidnapped and Talley must decide which is more important: saving a family he doesn't even know or saving his own family.</th>\n",
       "      <td>0.0</td>\n",
       "      <td>0.0</td>\n",
       "      <td>0.0</td>\n",
       "      <td>0.0</td>\n",
       "      <td>0.0</td>\n",
       "      <td>0.0</td>\n",
       "      <td>0.0</td>\n",
       "      <td>0.0</td>\n",
       "      <td>0.0</td>\n",
       "      <td>0.0</td>\n",
       "      <td>...</td>\n",
       "      <td>0.0</td>\n",
       "      <td>0.0</td>\n",
       "      <td>0.0</td>\n",
       "      <td>0.0</td>\n",
       "      <td>0.0</td>\n",
       "      <td>0.0</td>\n",
       "      <td>0.0</td>\n",
       "      <td>0.0</td>\n",
       "      <td>0.0</td>\n",
       "      <td>action</td>\n",
       "    </tr>\n",
       "  </tbody>\n",
       "</table>\n",
       "<p>2 rows × 11038 columns</p>\n",
       "</div>"
      ],
      "text/plain": [
       "                                                    brother  cleric  earl  \\\n",
       "synopsis                                                                    \n",
       "A cleric enlists on learning he loves his broth...      1.0     1.0   1.0   \n",
       "When a family is held hostage, former hostage n...      0.0     0.0   0.0   \n",
       "\n",
       "                                                    enlists  find  learning  \\\n",
       "synopsis                                                                      \n",
       "A cleric enlists on learning he loves his broth...      1.0   1.0       1.0   \n",
       "When a family is held hostage, former hostage n...      0.0   0.0       0.0   \n",
       "\n",
       "                                                    life  love  save  \\\n",
       "synopsis                                                               \n",
       "A cleric enlists on learning he loves his broth...   1.0   1.0   1.0   \n",
       "When a family is held hostage, former hostage n...   0.0   0.0   0.0   \n",
       "\n",
       "                                                    sweetheart  ...  \\\n",
       "synopsis                                                        ...   \n",
       "A cleric enlists on learning he loves his broth...         1.0  ...   \n",
       "When a family is held hostage, former hostage n...         0.0  ...   \n",
       "\n",
       "                                                    resurrects  waning  papua  \\\n",
       "synopsis                                                                        \n",
       "A cleric enlists on learning he loves his broth...         0.0     0.0    0.0   \n",
       "When a family is held hostage, former hostage n...         0.0     0.0    0.0   \n",
       "\n",
       "                                                    taiwanese  greene  \\\n",
       "synopsis                                                                \n",
       "A cleric enlists on learning he loves his broth...        0.0     0.0   \n",
       "When a family is held hostage, former hostage n...        0.0     0.0   \n",
       "\n",
       "                                                    offline  yeong  \\\n",
       "synopsis                                                             \n",
       "A cleric enlists on learning he loves his broth...      0.0    0.0   \n",
       "When a family is held hostage, former hostage n...      0.0    0.0   \n",
       "\n",
       "                                                    perpetrated  cosmopolitan  \\\n",
       "synopsis                                                                        \n",
       "A cleric enlists on learning he loves his broth...          0.0           0.0   \n",
       "When a family is held hostage, former hostage n...          0.0           0.0   \n",
       "\n",
       "                                                     label  \n",
       "synopsis                                                    \n",
       "A cleric enlists on learning he loves his broth...  action  \n",
       "When a family is held hostage, former hostage n...  action  \n",
       "\n",
       "[2 rows x 11038 columns]"
      ]
     },
     "execution_count": 13,
     "metadata": {},
     "output_type": "execute_result"
    }
   ],
   "source": [
    "df_nn = df_c2d.T\n",
    "\n",
    "df_nn['label'] = list(df_train['genre'])\n",
    "df_nn.head(2)"
   ]
  },
  {
   "cell_type": "markdown",
   "id": "62f14472",
   "metadata": {},
   "source": [
    "## Data preparation"
   ]
  },
  {
   "cell_type": "code",
   "execution_count": 14,
   "id": "9250fdce",
   "metadata": {},
   "outputs": [],
   "source": [
    "#preprocessing\n",
    "from sklearn.preprocessing import LabelEncoder"
   ]
  },
  {
   "cell_type": "code",
   "execution_count": 15,
   "id": "a2c9885b",
   "metadata": {},
   "outputs": [],
   "source": [
    "df_nn_train = df_nn.copy()\n",
    "\n",
    "# Label Encoding\n",
    "le = LabelEncoder()\n",
    "cat_cols = ['label']\n",
    "\n",
    "for col in cat_cols:\n",
    "    df_nn_train[col] = le.fit_transform(df_nn_train[col])   # se faccio metodo dummy avrei altre 8 colonne in più. cosi rimane una"
   ]
  },
  {
   "cell_type": "code",
   "execution_count": 16,
   "id": "10391a6d",
   "metadata": {},
   "outputs": [],
   "source": [
    "# X and y (labels) splitting\n",
    "y_train = df_nn_train.values[:, -1]\n",
    "df_nn_train.drop(['label'], axis=1, inplace=True)"
   ]
  },
  {
   "cell_type": "code",
   "execution_count": 17,
   "id": "d771397e",
   "metadata": {},
   "outputs": [],
   "source": [
    "x_train = df_nn_train.values\n",
    "cols = df_nn_train.columns   #columns labels"
   ]
  },
  {
   "cell_type": "code",
   "execution_count": 18,
   "id": "3a6bcf3c",
   "metadata": {},
   "outputs": [
    {
     "name": "stdout",
     "output_type": "stream",
     "text": [
      "(42979, 11037)\n",
      "(42979,)\n"
     ]
    }
   ],
   "source": [
    "print(x_train.shape)\n",
    "print(y_train.shape)"
   ]
  },
  {
   "cell_type": "code",
   "execution_count": 19,
   "id": "5c4781f1",
   "metadata": {},
   "outputs": [
    {
     "data": {
      "text/plain": [
       "array([[1., 1., 1., ..., 0., 0., 0.],\n",
       "       [0., 0., 0., ..., 0., 0., 0.],\n",
       "       [0., 0., 0., ..., 0., 0., 0.],\n",
       "       ...,\n",
       "       [0., 0., 0., ..., 0., 0., 0.],\n",
       "       [0., 0., 0., ..., 0., 0., 0.],\n",
       "       [0., 0., 0., ..., 0., 0., 0.]], dtype=float32)"
      ]
     },
     "execution_count": 19,
     "metadata": {},
     "output_type": "execute_result"
    }
   ],
   "source": [
    "x_train"
   ]
  },
  {
   "cell_type": "markdown",
   "metadata": {},
   "source": [
    "## Neural Networks"
   ]
  },
  {
   "cell_type": "code",
   "execution_count": 20,
   "metadata": {},
   "outputs": [
    {
     "name": "stdout",
     "output_type": "stream",
     "text": [
      "WARNING:tensorflow:From C:\\Users\\gabri\\AppData\\Local\\Packages\\PythonSoftwareFoundation.Python.3.11_qbz5n2kfra8p0\\LocalCache\\local-packages\\Python311\\site-packages\\keras\\src\\losses.py:2976: The name tf.losses.sparse_softmax_cross_entropy is deprecated. Please use tf.compat.v1.losses.sparse_softmax_cross_entropy instead.\n",
      "\n"
     ]
    }
   ],
   "source": [
    "from keras.preprocessing import sequence\n",
    "from keras.models import Sequential\n",
    "from keras.layers import Dense, Embedding\n",
    "from keras.layers import LSTM\n",
    "from keras.callbacks import EarlyStopping, ReduceLROnPlateau\n",
    "from tensorflow.keras.optimizers import Adam\n",
    "from keras.layers import Dense, Dropout\n",
    "from keras.regularizers import l2, l1\n",
    "from keras.callbacks import EarlyStopping, ModelCheckpoint\n",
    "\n",
    "from keras.models import Sequential\n",
    "from keras.layers import Dense, Dropout, Activation, Input\n",
    "from keras.layers import Embedding\n",
    "from keras.layers import Conv1D, GlobalMaxPooling1D"
   ]
  },
  {
   "cell_type": "code",
   "execution_count": 21,
   "metadata": {},
   "outputs": [],
   "source": [
    "import random\n",
    "import itertools"
   ]
  },
  {
   "cell_type": "code",
   "execution_count": 22,
   "metadata": {},
   "outputs": [],
   "source": [
    "# Plot training and validation accuracy\n",
    "def plot_history(history):\n",
    "    plt.figure(figsize=(12, 6))\n",
    "    plt.subplot(1, 2, 1)\n",
    "    plt.plot(history.history['accuracy'], label='Train')\n",
    "    plt.plot(history.history['val_accuracy'], label='Validation')\n",
    "    plt.xlabel('Epoch')\n",
    "    plt.ylabel('Accuracy')\n",
    "    plt.legend()\n",
    "\n",
    "    # Plot training and validation loss\n",
    "    plt.subplot(1, 2, 2)\n",
    "    plt.plot(history.history['loss'], label='Train')\n",
    "    plt.plot(history.history['val_loss'], label='Validation')\n",
    "    plt.xlabel('Epoch')\n",
    "    plt.ylabel('Loss')\n",
    "    plt.legend()\n",
    "\n",
    "    plt.tight_layout()\n",
    "    plt.show()"
   ]
  },
  {
   "cell_type": "markdown",
   "id": "f4de44e9",
   "metadata": {},
   "source": [
    "## Random search"
   ]
  },
  {
   "cell_type": "code",
   "execution_count": 23,
   "id": "4f9a5167",
   "metadata": {},
   "outputs": [],
   "source": [
    "# USE THIS CELL TO RESET HISTORIES\n",
    "histories = []   # list of histories\n",
    "models = []    # list of models"
   ]
  },
  {
   "cell_type": "code",
   "execution_count": null,
   "id": "0f95fa15",
   "metadata": {},
   "outputs": [],
   "source": [
    "hyperparameters = {\n",
    "    'learning_rate': [0.001, 0.0005, 0.0001],\n",
    "    'batch_size' : [32, 16],\n",
    "    'dropout' : [0.3, 0.4, 0.5],\n",
    "    'kr' : [0.05, 0.01, 0.005, 0.001],  # Kernel regularizer\n",
    "    'layer_size' : [32, 64, 128],   # hidden layers\n",
    "    'layer_mul': [1, 2, 3]\n",
    "}"
   ]
  },
  {
   "cell_type": "code",
   "execution_count": 27,
   "id": "c4efc178",
   "metadata": {},
   "outputs": [],
   "source": [
    "number_of_combinations = 10  # IMPORTANT\n",
    "\n",
    "random_combinations = random.sample(list(itertools.product(*hyperparameters.values())), number_of_combinations) \n",
    "\n",
    "def build_model_to_compare(param_dict):\n",
    "    \n",
    "    n_feature = x_train.shape[1]\n",
    "    model = Sequential()\n",
    "    model.add(Dense(param_dict['layer_size']*param_dict['layer_mul'], input_dim=n_feature, activation='relu', kernel_regularizer=l2(param_dict['kr'])))\n",
    "    model.add(Dropout(param_dict['dropout']))\n",
    "    model.add(Dense(param_dict['layer_size'], activation='relu', kernel_regularizer=l2(param_dict['kr'])))\n",
    "    model.add(Dropout(param_dict['dropout']))\n",
    "    model.add(Dense(param_dict['layer_size'], activation='relu', kernel_regularizer=l2(param_dict['kr'])))\n",
    "    model.add(Dropout(param_dict['dropout']))\n",
    "    model.add(Dense(10, activation='softmax', kernel_regularizer=l2(param_dict['kr'])))\n",
    "\n",
    "    optimizer = Adam(learning_rate=param_dict['learning_rate'])\n",
    "    model.compile(loss='sparse_categorical_crossentropy', optimizer=optimizer, metrics=['accuracy'])\n",
    "    return model"
   ]
  },
  {
   "cell_type": "code",
   "execution_count": 25,
   "id": "dc070674",
   "metadata": {},
   "outputs": [
    {
     "name": "stdout",
     "output_type": "stream",
     "text": [
      "Testing with hyperparameters: {'learning_rate': 0.0005, 'batch_size': 16, 'dropout': 0.3, 'kr': 0.05, 'layer_size': 32, 'layer_mul': 1}\n",
      "WARNING:tensorflow:From C:\\Users\\gabri\\AppData\\Local\\Packages\\PythonSoftwareFoundation.Python.3.11_qbz5n2kfra8p0\\LocalCache\\local-packages\\Python311\\site-packages\\keras\\src\\backend.py:873: The name tf.get_default_graph is deprecated. Please use tf.compat.v1.get_default_graph instead.\n",
      "\n",
      "Epoch 1/20\n",
      "WARNING:tensorflow:From C:\\Users\\gabri\\AppData\\Local\\Packages\\PythonSoftwareFoundation.Python.3.11_qbz5n2kfra8p0\\LocalCache\\local-packages\\Python311\\site-packages\\keras\\src\\utils\\tf_utils.py:492: The name tf.ragged.RaggedTensorValue is deprecated. Please use tf.compat.v1.ragged.RaggedTensorValue instead.\n",
      "\n",
      "WARNING:tensorflow:From C:\\Users\\gabri\\AppData\\Local\\Packages\\PythonSoftwareFoundation.Python.3.11_qbz5n2kfra8p0\\LocalCache\\local-packages\\Python311\\site-packages\\keras\\src\\engine\\base_layer_utils.py:384: The name tf.executing_eagerly_outside_functions is deprecated. Please use tf.compat.v1.executing_eagerly_outside_functions instead.\n",
      "\n",
      "1800/1800 [==============================] - 20s 10ms/step - loss: 2.7697 - accuracy: 0.0970 - val_loss: 2.3027 - val_accuracy: 0.0990 - lr: 5.0000e-04\n",
      "Epoch 2/20\n",
      "1800/1800 [==============================] - 11s 6ms/step - loss: 2.3027 - accuracy: 0.0975 - val_loss: 2.3026 - val_accuracy: 0.0984 - lr: 5.0000e-04\n",
      "Epoch 3/20\n",
      "1800/1800 [==============================] - 11s 6ms/step - loss: 2.3027 - accuracy: 0.0975 - val_loss: 2.3027 - val_accuracy: 0.0990 - lr: 5.0000e-04\n",
      "Epoch 4/20\n",
      "1800/1800 [==============================] - 11s 6ms/step - loss: 2.3027 - accuracy: 0.0964 - val_loss: 2.3027 - val_accuracy: 0.0990 - lr: 5.0000e-04\n",
      "Epoch 5/20\n",
      "1800/1800 [==============================] - 10s 6ms/step - loss: 2.3026 - accuracy: 0.1003 - val_loss: 2.3027 - val_accuracy: 0.0990 - lr: 1.0000e-04\n",
      "Epoch 6/20\n",
      "1800/1800 [==============================] - 10s 6ms/step - loss: 2.3026 - accuracy: 0.1009 - val_loss: 2.3027 - val_accuracy: 0.0990 - lr: 1.0000e-04\n",
      "Epoch 7/20\n",
      "1800/1800 [==============================] - 10s 6ms/step - loss: 2.3026 - accuracy: 0.1009 - val_loss: 2.3027 - val_accuracy: 0.0990 - lr: 1.0000e-04\n",
      "Result combo 0: 0.09898477047681808\n",
      "Testing with hyperparameters: {'learning_rate': 0.001, 'batch_size': 32, 'dropout': 0.3, 'kr': 0.01, 'layer_size': 128, 'layer_mul': 2}\n",
      "Epoch 1/20\n",
      "900/900 [==============================] - 42s 45ms/step - loss: 2.4975 - accuracy: 0.0987 - val_loss: 2.3027 - val_accuracy: 0.0990 - lr: 0.0010\n",
      "Epoch 2/20\n",
      "900/900 [==============================] - 33s 37ms/step - loss: 2.3028 - accuracy: 0.0986 - val_loss: 2.3028 - val_accuracy: 0.0984 - lr: 0.0010\n",
      "Epoch 3/20\n",
      "900/900 [==============================] - 32s 36ms/step - loss: 2.3028 - accuracy: 0.0989 - val_loss: 2.3027 - val_accuracy: 0.0984 - lr: 0.0010\n",
      "Epoch 4/20\n",
      "900/900 [==============================] - 31s 34ms/step - loss: 2.3028 - accuracy: 0.0977 - val_loss: 2.3027 - val_accuracy: 0.1004 - lr: 0.0010\n",
      "Epoch 5/20\n",
      "900/900 [==============================] - 31s 35ms/step - loss: 2.3026 - accuracy: 0.0994 - val_loss: 2.3027 - val_accuracy: 0.1004 - lr: 2.0000e-04\n",
      "Epoch 6/20\n",
      "900/900 [==============================] - 32s 35ms/step - loss: 2.3026 - accuracy: 0.0991 - val_loss: 2.3027 - val_accuracy: 0.1004 - lr: 2.0000e-04\n",
      "Result combo 1: 0.10039480775594711\n",
      "Testing with hyperparameters: {'learning_rate': 0.0005, 'batch_size': 32, 'dropout': 0.3, 'kr': 0.05, 'layer_size': 32, 'layer_mul': 1}\n",
      "Epoch 1/20\n",
      "900/900 [==============================] - 12s 12ms/step - loss: 3.1980 - accuracy: 0.1037 - val_loss: 2.3200 - val_accuracy: 0.1010 - lr: 5.0000e-04\n",
      "Epoch 2/20\n",
      "900/900 [==============================] - 5s 6ms/step - loss: 2.3051 - accuracy: 0.0991 - val_loss: 2.3027 - val_accuracy: 0.0992 - lr: 5.0000e-04\n",
      "Epoch 3/20\n",
      "900/900 [==============================] - 6s 6ms/step - loss: 2.3027 - accuracy: 0.0983 - val_loss: 2.3027 - val_accuracy: 0.0988 - lr: 5.0000e-04\n",
      "Epoch 4/20\n",
      "900/900 [==============================] - 6s 7ms/step - loss: 2.3027 - accuracy: 0.0963 - val_loss: 2.3027 - val_accuracy: 0.0984 - lr: 5.0000e-04\n",
      "Epoch 5/20\n",
      "900/900 [==============================] - 6s 7ms/step - loss: 2.3027 - accuracy: 0.0978 - val_loss: 2.3027 - val_accuracy: 0.0992 - lr: 5.0000e-04\n",
      "Epoch 6/20\n",
      "900/900 [==============================] - 7s 7ms/step - loss: 2.3026 - accuracy: 0.1002 - val_loss: 2.3027 - val_accuracy: 0.0992 - lr: 1.0000e-04\n",
      "Epoch 7/20\n",
      "900/900 [==============================] - 6s 7ms/step - loss: 2.3026 - accuracy: 0.0997 - val_loss: 2.3027 - val_accuracy: 0.0992 - lr: 1.0000e-04\n",
      "Epoch 8/20\n",
      "900/900 [==============================] - 6s 7ms/step - loss: 2.3026 - accuracy: 0.0989 - val_loss: 2.3027 - val_accuracy: 0.0992 - lr: 1.0000e-04\n",
      "Epoch 9/20\n",
      "900/900 [==============================] - 6s 7ms/step - loss: 2.3026 - accuracy: 0.1007 - val_loss: 2.3027 - val_accuracy: 0.0992 - lr: 2.0000e-05\n",
      "Epoch 10/20\n",
      "900/900 [==============================] - 6s 7ms/step - loss: 2.3026 - accuracy: 0.1007 - val_loss: 2.3027 - val_accuracy: 0.0992 - lr: 2.0000e-05\n",
      "Epoch 11/20\n",
      "900/900 [==============================] - 6s 7ms/step - loss: 2.3026 - accuracy: 0.1007 - val_loss: 2.3027 - val_accuracy: 0.0992 - lr: 2.0000e-05\n",
      "Epoch 12/20\n",
      "900/900 [==============================] - 6s 7ms/step - loss: 2.3026 - accuracy: 0.1007 - val_loss: 2.3027 - val_accuracy: 0.0992 - lr: 4.0000e-06\n",
      "Epoch 13/20\n",
      "900/900 [==============================] - 6s 7ms/step - loss: 2.3026 - accuracy: 0.1007 - val_loss: 2.3027 - val_accuracy: 0.0992 - lr: 4.0000e-06\n",
      "Epoch 14/20\n",
      "900/900 [==============================] - 6s 6ms/step - loss: 2.3026 - accuracy: 0.1007 - val_loss: 2.3027 - val_accuracy: 0.0992 - lr: 4.0000e-06\n",
      "Result combo 2: 0.09919627755880356\n",
      "Testing with hyperparameters: {'learning_rate': 0.001, 'batch_size': 32, 'dropout': 0.3, 'kr': 0.005, 'layer_size': 64, 'layer_mul': 1}\n",
      "Epoch 1/20\n",
      "900/900 [==============================] - 15s 15ms/step - loss: 2.3696 - accuracy: 0.1055 - val_loss: 2.3027 - val_accuracy: 0.0988 - lr: 0.0010\n",
      "Epoch 2/20\n",
      "900/900 [==============================] - 10s 11ms/step - loss: 2.3028 - accuracy: 0.0995 - val_loss: 2.3028 - val_accuracy: 0.0990 - lr: 0.0010\n",
      "Epoch 3/20\n",
      "900/900 [==============================] - 10s 11ms/step - loss: 2.3028 - accuracy: 0.0987 - val_loss: 2.3026 - val_accuracy: 0.0990 - lr: 0.0010\n",
      "Epoch 4/20\n",
      "900/900 [==============================] - 10s 12ms/step - loss: 2.3028 - accuracy: 0.0982 - val_loss: 2.3026 - val_accuracy: 0.0984 - lr: 0.0010\n",
      "Epoch 5/20\n",
      "900/900 [==============================] - 10s 11ms/step - loss: 2.3026 - accuracy: 0.0970 - val_loss: 2.3027 - val_accuracy: 0.0990 - lr: 2.0000e-04\n",
      "Epoch 6/20\n",
      "900/900 [==============================] - 10s 11ms/step - loss: 2.3026 - accuracy: 0.0996 - val_loss: 2.3027 - val_accuracy: 0.0992 - lr: 2.0000e-04\n",
      "Epoch 7/20\n",
      "900/900 [==============================] - 10s 11ms/step - loss: 2.3026 - accuracy: 0.0994 - val_loss: 2.3027 - val_accuracy: 0.0992 - lr: 2.0000e-04\n",
      "Epoch 8/20\n",
      "900/900 [==============================] - 10s 11ms/step - loss: 2.3026 - accuracy: 0.1007 - val_loss: 2.3027 - val_accuracy: 0.0992 - lr: 4.0000e-05\n",
      "Result combo 3: 0.09919627755880356\n",
      "Testing with hyperparameters: {'learning_rate': 0.001, 'batch_size': 32, 'dropout': 0.3, 'kr': 0.001, 'layer_size': 64, 'layer_mul': 3}\n",
      "Epoch 1/20\n",
      "900/900 [==============================] - 29s 31ms/step - loss: 2.3339 - accuracy: 0.2640 - val_loss: 2.2551 - val_accuracy: 0.3264 - lr: 0.0010\n",
      "Epoch 2/20\n",
      "900/900 [==============================] - 26s 29ms/step - loss: 2.2590 - accuracy: 0.3428 - val_loss: 2.2653 - val_accuracy: 0.3281 - lr: 0.0010\n",
      "Epoch 3/20\n",
      "900/900 [==============================] - 26s 29ms/step - loss: 2.2361 - accuracy: 0.3654 - val_loss: 2.2820 - val_accuracy: 0.3308 - lr: 0.0010\n",
      "Epoch 4/20\n",
      "900/900 [==============================] - 26s 29ms/step - loss: 2.2137 - accuracy: 0.3808 - val_loss: 2.3169 - val_accuracy: 0.3294 - lr: 0.0010\n",
      "Epoch 5/20\n",
      "900/900 [==============================] - 23s 26ms/step - loss: 1.9490 - accuracy: 0.4650 - val_loss: 2.2275 - val_accuracy: 0.3347 - lr: 2.0000e-04\n",
      "Epoch 6/20\n",
      "900/900 [==============================] - 24s 27ms/step - loss: 1.8025 - accuracy: 0.4936 - val_loss: 2.2377 - val_accuracy: 0.3285 - lr: 2.0000e-04\n",
      "Epoch 7/20\n",
      "900/900 [==============================] - 26s 29ms/step - loss: 1.7103 - accuracy: 0.5276 - val_loss: 2.2793 - val_accuracy: 0.3218 - lr: 2.0000e-04\n",
      "Epoch 8/20\n",
      "900/900 [==============================] - 24s 27ms/step - loss: 1.6387 - accuracy: 0.5576 - val_loss: 2.3484 - val_accuracy: 0.3137 - lr: 2.0000e-04\n",
      "Epoch 9/20\n",
      "900/900 [==============================] - 23s 26ms/step - loss: 1.4852 - accuracy: 0.6264 - val_loss: 2.3918 - val_accuracy: 0.3115 - lr: 4.0000e-05\n",
      "Epoch 10/20\n",
      "900/900 [==============================] - 24s 26ms/step - loss: 1.4434 - accuracy: 0.6367 - val_loss: 2.4279 - val_accuracy: 0.3094 - lr: 4.0000e-05\n",
      "Result combo 4: 0.30936264991760254\n",
      "Testing with hyperparameters: {'learning_rate': 0.0005, 'batch_size': 16, 'dropout': 0.3, 'kr': 0.01, 'layer_size': 32, 'layer_mul': 2}\n",
      "Epoch 1/20\n",
      "1800/1800 [==============================] - 25s 13ms/step - loss: 2.4054 - accuracy: 0.0996 - val_loss: 2.3027 - val_accuracy: 0.0992 - lr: 5.0000e-04\n",
      "Epoch 2/20\n",
      "1800/1800 [==============================] - 18s 10ms/step - loss: 2.3027 - accuracy: 0.0964 - val_loss: 2.3027 - val_accuracy: 0.0984 - lr: 5.0000e-04\n",
      "Epoch 3/20\n",
      "1800/1800 [==============================] - 19s 10ms/step - loss: 2.3027 - accuracy: 0.0961 - val_loss: 2.3027 - val_accuracy: 0.0984 - lr: 5.0000e-04\n",
      "Epoch 4/20\n",
      "1800/1800 [==============================] - 22s 12ms/step - loss: 2.3027 - accuracy: 0.0999 - val_loss: 2.3027 - val_accuracy: 0.0990 - lr: 5.0000e-04\n",
      "Epoch 5/20\n",
      "1800/1800 [==============================] - 21s 11ms/step - loss: 2.3026 - accuracy: 0.1009 - val_loss: 2.3027 - val_accuracy: 0.0990 - lr: 1.0000e-04\n",
      "Epoch 6/20\n",
      "1800/1800 [==============================] - 21s 12ms/step - loss: 2.3026 - accuracy: 0.1009 - val_loss: 2.3027 - val_accuracy: 0.0990 - lr: 1.0000e-04\n",
      "Epoch 7/20\n",
      "1800/1800 [==============================] - 21s 12ms/step - loss: 2.3026 - accuracy: 0.1009 - val_loss: 2.3027 - val_accuracy: 0.0990 - lr: 1.0000e-04\n",
      "Epoch 8/20\n",
      "1800/1800 [==============================] - 20s 11ms/step - loss: 2.3026 - accuracy: 0.1009 - val_loss: 2.3027 - val_accuracy: 0.0990 - lr: 2.0000e-05\n",
      "Epoch 9/20\n",
      "1800/1800 [==============================] - 22s 12ms/step - loss: 2.3026 - accuracy: 0.1009 - val_loss: 2.3027 - val_accuracy: 0.0990 - lr: 2.0000e-05\n",
      "Epoch 10/20\n",
      "1800/1800 [==============================] - 18s 10ms/step - loss: 2.3026 - accuracy: 0.1009 - val_loss: 2.3027 - val_accuracy: 0.0990 - lr: 2.0000e-05\n",
      "Epoch 11/20\n",
      "1800/1800 [==============================] - 18s 10ms/step - loss: 2.3026 - accuracy: 0.1009 - val_loss: 2.3027 - val_accuracy: 0.0990 - lr: 4.0000e-06\n",
      "Epoch 12/20\n",
      "1800/1800 [==============================] - 19s 10ms/step - loss: 2.3026 - accuracy: 0.1009 - val_loss: 2.3027 - val_accuracy: 0.0990 - lr: 4.0000e-06\n",
      "Epoch 13/20\n",
      "1800/1800 [==============================] - 18s 10ms/step - loss: 2.3026 - accuracy: 0.1009 - val_loss: 2.3027 - val_accuracy: 0.0990 - lr: 4.0000e-06\n",
      "Epoch 14/20\n",
      "1800/1800 [==============================] - 19s 10ms/step - loss: 2.3026 - accuracy: 0.1009 - val_loss: 2.3027 - val_accuracy: 0.0990 - lr: 1.0000e-06\n",
      "Epoch 15/20\n",
      "1800/1800 [==============================] - 20s 11ms/step - loss: 2.3026 - accuracy: 0.1009 - val_loss: 2.3027 - val_accuracy: 0.0990 - lr: 1.0000e-06\n",
      "Epoch 16/20\n",
      "1800/1800 [==============================] - 20s 11ms/step - loss: 2.3026 - accuracy: 0.1009 - val_loss: 2.3027 - val_accuracy: 0.0990 - lr: 1.0000e-06\n",
      "Epoch 17/20\n",
      "1800/1800 [==============================] - 19s 11ms/step - loss: 2.3026 - accuracy: 0.1009 - val_loss: 2.3027 - val_accuracy: 0.0990 - lr: 1.0000e-06\n",
      "Epoch 18/20\n",
      "1800/1800 [==============================] - 21s 12ms/step - loss: 2.3026 - accuracy: 0.1009 - val_loss: 2.3027 - val_accuracy: 0.0990 - lr: 1.0000e-06\n",
      "Epoch 19/20\n",
      "1800/1800 [==============================] - 21s 12ms/step - loss: 2.3026 - accuracy: 0.1009 - val_loss: 2.3027 - val_accuracy: 0.0990 - lr: 1.0000e-06\n",
      "Epoch 20/20\n",
      "1800/1800 [==============================] - 21s 11ms/step - loss: 2.3026 - accuracy: 0.1009 - val_loss: 2.3027 - val_accuracy: 0.0990 - lr: 1.0000e-06\n",
      "Result combo 5: 0.09898477047681808\n",
      "Testing with hyperparameters: {'learning_rate': 0.001, 'batch_size': 32, 'dropout': 0.5, 'kr': 0.001, 'layer_size': 128, 'layer_mul': 2}\n"
     ]
    },
    {
     "ename": "MemoryError",
     "evalue": "Unable to allocate 1.18 GiB for an array with shape (28795, 11037) and data type float32",
     "output_type": "error",
     "traceback": [
      "\u001b[1;31m---------------------------------------------------------------------------\u001b[0m",
      "\u001b[1;31mMemoryError\u001b[0m                               Traceback (most recent call last)",
      "Cell \u001b[1;32mIn[25], line 20\u001b[0m\n\u001b[0;32m     16\u001b[0m early_stopping \u001b[38;5;241m=\u001b[39m EarlyStopping(monitor\u001b[38;5;241m=\u001b[39m\u001b[38;5;124m'\u001b[39m\u001b[38;5;124mval_loss\u001b[39m\u001b[38;5;124m'\u001b[39m, patience\u001b[38;5;241m=\u001b[39m\u001b[38;5;241m5\u001b[39m, restore_best_weights\u001b[38;5;241m=\u001b[39m\u001b[38;5;28;01mTrue\u001b[39;00m)\n\u001b[0;32m     17\u001b[0m reduce_lr \u001b[38;5;241m=\u001b[39m ReduceLROnPlateau(monitor\u001b[38;5;241m=\u001b[39m\u001b[38;5;124m'\u001b[39m\u001b[38;5;124mval_loss\u001b[39m\u001b[38;5;124m'\u001b[39m, factor\u001b[38;5;241m=\u001b[39m\u001b[38;5;241m0.2\u001b[39m,\n\u001b[0;32m     18\u001b[0m                             patience\u001b[38;5;241m=\u001b[39m\u001b[38;5;241m3\u001b[39m, min_lr\u001b[38;5;241m=\u001b[39m\u001b[38;5;241m0.000001\u001b[39m)\n\u001b[1;32m---> 20\u001b[0m history \u001b[38;5;241m=\u001b[39m \u001b[43mmodel\u001b[49m\u001b[38;5;241;43m.\u001b[39;49m\u001b[43mfit\u001b[49m\u001b[43m(\u001b[49m\u001b[43mx_train\u001b[49m\u001b[43m,\u001b[49m\u001b[43m \u001b[49m\u001b[43my_train\u001b[49m\u001b[43m,\u001b[49m\u001b[43m \u001b[49m\u001b[43mvalidation_split\u001b[49m\u001b[38;5;241;43m=\u001b[39;49m\u001b[38;5;241;43m0.33\u001b[39;49m\u001b[43m,\u001b[49m\u001b[43m \u001b[49m\u001b[43mepochs\u001b[49m\u001b[38;5;241;43m=\u001b[39;49m\u001b[43mnumber_of_epochs\u001b[49m\u001b[43m,\u001b[49m\u001b[43m \u001b[49m\u001b[43mbatch_size\u001b[49m\u001b[38;5;241;43m=\u001b[39;49m\u001b[43mparam_dict\u001b[49m\u001b[43m[\u001b[49m\u001b[38;5;124;43m'\u001b[39;49m\u001b[38;5;124;43mbatch_size\u001b[39;49m\u001b[38;5;124;43m'\u001b[39;49m\u001b[43m]\u001b[49m\u001b[43m,\u001b[49m\u001b[43m \u001b[49m\u001b[43mverbose\u001b[49m\u001b[38;5;241;43m=\u001b[39;49m\u001b[38;5;241;43m1\u001b[39;49m\u001b[43m,\u001b[49m\u001b[43m \u001b[49m\u001b[43mcallbacks\u001b[49m\u001b[38;5;241;43m=\u001b[39;49m\u001b[43m[\u001b[49m\u001b[43mearly_stopping\u001b[49m\u001b[43m,\u001b[49m\u001b[43m \u001b[49m\u001b[43mreduce_lr\u001b[49m\u001b[43m]\u001b[49m\u001b[43m,\u001b[49m\u001b[43m \u001b[49m\u001b[43mworkers\u001b[49m\u001b[43m \u001b[49m\u001b[38;5;241;43m=\u001b[39;49m\u001b[43m \u001b[49m\u001b[38;5;241;43m6\u001b[39;49m\u001b[43m)\u001b[49m\n\u001b[0;32m     22\u001b[0m \u001b[38;5;28mprint\u001b[39m(\u001b[38;5;124m'\u001b[39m\u001b[38;5;124mResult combo \u001b[39m\u001b[38;5;132;01m{}\u001b[39;00m\u001b[38;5;124m:\u001b[39m\u001b[38;5;124m'\u001b[39m\u001b[38;5;241m.\u001b[39mformat(idx), history\u001b[38;5;241m.\u001b[39mhistory[\u001b[38;5;124m'\u001b[39m\u001b[38;5;124mval_accuracy\u001b[39m\u001b[38;5;124m'\u001b[39m][\u001b[38;5;241m-\u001b[39m\u001b[38;5;241m1\u001b[39m])\n\u001b[0;32m     23\u001b[0m \u001b[38;5;66;03m# Record the results\u001b[39;00m\n",
      "File \u001b[1;32m~\\AppData\\Local\\Packages\\PythonSoftwareFoundation.Python.3.11_qbz5n2kfra8p0\\LocalCache\\local-packages\\Python311\\site-packages\\keras\\src\\utils\\traceback_utils.py:70\u001b[0m, in \u001b[0;36mfilter_traceback.<locals>.error_handler\u001b[1;34m(*args, **kwargs)\u001b[0m\n\u001b[0;32m     67\u001b[0m     filtered_tb \u001b[38;5;241m=\u001b[39m _process_traceback_frames(e\u001b[38;5;241m.\u001b[39m__traceback__)\n\u001b[0;32m     68\u001b[0m     \u001b[38;5;66;03m# To get the full stack trace, call:\u001b[39;00m\n\u001b[0;32m     69\u001b[0m     \u001b[38;5;66;03m# `tf.debugging.disable_traceback_filtering()`\u001b[39;00m\n\u001b[1;32m---> 70\u001b[0m     \u001b[38;5;28;01mraise\u001b[39;00m e\u001b[38;5;241m.\u001b[39mwith_traceback(filtered_tb) \u001b[38;5;28;01mfrom\u001b[39;00m \u001b[38;5;28;01mNone\u001b[39;00m\n\u001b[0;32m     71\u001b[0m \u001b[38;5;28;01mfinally\u001b[39;00m:\n\u001b[0;32m     72\u001b[0m     \u001b[38;5;28;01mdel\u001b[39;00m filtered_tb\n",
      "File \u001b[1;32m~\\AppData\\Local\\Packages\\PythonSoftwareFoundation.Python.3.11_qbz5n2kfra8p0\\LocalCache\\local-packages\\Python311\\site-packages\\tensorflow\\python\\framework\\constant_op.py:91\u001b[0m, in \u001b[0;36mconvert_to_eager_tensor\u001b[1;34m(value, ctx, dtype)\u001b[0m\n\u001b[0;32m     71\u001b[0m \u001b[38;5;250m\u001b[39m\u001b[38;5;124;03m\"\"\"Converts the given `value` to an `EagerTensor`.\u001b[39;00m\n\u001b[0;32m     72\u001b[0m \n\u001b[0;32m     73\u001b[0m \u001b[38;5;124;03mNote that this function could return cached copies of created constants for\u001b[39;00m\n\u001b[1;32m   (...)\u001b[0m\n\u001b[0;32m     85\u001b[0m \u001b[38;5;124;03m  TypeError: if `dtype` is not compatible with the type of t.\u001b[39;00m\n\u001b[0;32m     86\u001b[0m \u001b[38;5;124;03m\"\"\"\u001b[39;00m\n\u001b[0;32m     87\u001b[0m \u001b[38;5;28;01mif\u001b[39;00m \u001b[38;5;28misinstance\u001b[39m(value, np\u001b[38;5;241m.\u001b[39mndarray):\n\u001b[0;32m     88\u001b[0m   \u001b[38;5;66;03m# Make a copy explicitly because the EagerTensor might share the underlying\u001b[39;00m\n\u001b[0;32m     89\u001b[0m   \u001b[38;5;66;03m# memory with the input array. Without this copy, users will be able to\u001b[39;00m\n\u001b[0;32m     90\u001b[0m   \u001b[38;5;66;03m# modify the EagerTensor after its creation by changing the input array.\u001b[39;00m\n\u001b[1;32m---> 91\u001b[0m   value \u001b[38;5;241m=\u001b[39m value\u001b[38;5;241m.\u001b[39mcopy()\n\u001b[0;32m     92\u001b[0m \u001b[38;5;28;01mif\u001b[39;00m \u001b[38;5;28misinstance\u001b[39m(value, ops\u001b[38;5;241m.\u001b[39mEagerTensor):\n\u001b[0;32m     93\u001b[0m   \u001b[38;5;28;01mif\u001b[39;00m dtype \u001b[38;5;129;01mis\u001b[39;00m \u001b[38;5;129;01mnot\u001b[39;00m \u001b[38;5;28;01mNone\u001b[39;00m \u001b[38;5;129;01mand\u001b[39;00m value\u001b[38;5;241m.\u001b[39mdtype \u001b[38;5;241m!=\u001b[39m dtype:\n",
      "\u001b[1;31mMemoryError\u001b[0m: Unable to allocate 1.18 GiB for an array with shape (28795, 11037) and data type float32"
     ]
    }
   ],
   "source": [
    "best_params = None\n",
    "best_model = None\n",
    "best_history = None\n",
    "best_accuracy = 0.0\n",
    "all_results = {}\n",
    "\n",
    "number_of_epochs = 20\n",
    "\n",
    "for idx, combo in enumerate(random_combinations):\n",
    "    param_dict = dict(zip(hyperparameters.keys(), combo))\n",
    "    print(\"Testing with hyperparameters:\", param_dict)\n",
    "\n",
    "    model = build_model_to_compare(param_dict)\n",
    "\n",
    "    #eraly stopping and decreasing lr\n",
    "    early_stopping = EarlyStopping(monitor='val_loss', patience=5, restore_best_weights=True)\n",
    "    reduce_lr = ReduceLROnPlateau(monitor='val_loss', factor=0.2,\n",
    "                                patience=3, min_lr=0.000001)\n",
    "\n",
    "    history = model.fit(x_train, y_train, validation_split=0.33, epochs=number_of_epochs, batch_size=param_dict['batch_size'], verbose=1, callbacks=[early_stopping, reduce_lr], workers = 6)\n",
    "\n",
    "    print('Result combo {}:'.format(idx), history.history['val_accuracy'][-1])\n",
    "    # Record the results\n",
    "    accuracy = max(history.history['val_accuracy'])\n",
    "    all_results[str(param_dict)] = accuracy\n",
    "\n",
    "    histories.append(history)\n",
    "    models.append(model)\n",
    "\n",
    "    # Update best parameters if the current combination is better\n",
    "    if accuracy > best_accuracy:\n",
    "        best_accuracy = accuracy\n",
    "        best_params = param_dict\n",
    "        best_history = history\n",
    "        best_model = model\n",
    "    "
   ]
  },
  {
   "cell_type": "markdown",
   "id": "d589d563",
   "metadata": {},
   "source": [
    "## Second random search"
   ]
  },
  {
   "cell_type": "markdown",
   "id": "8f60a5a1",
   "metadata": {},
   "source": [
    "Fine tuning"
   ]
  },
  {
   "cell_type": "code",
   "execution_count": 29,
   "id": "6f52c290",
   "metadata": {},
   "outputs": [],
   "source": [
    "hyperparameters = {\n",
    "    'learning_rate': [0.001, 0.0005, 0.0001],\n",
    "    'batch_size' : [32],\n",
    "    'dropout' : [0.3, 0.4, 0.5],\n",
    "    'kr' : [0.001, 0.0005, 0.002],  # Kernel regularizer\n",
    "    'layer_size' : [32, 64, 128],   # hidden layers\n",
    "    'layer_mul': [1, 2, 3]\n",
    "}"
   ]
  },
  {
   "cell_type": "code",
   "execution_count": 30,
   "id": "9d9c1183",
   "metadata": {},
   "outputs": [],
   "source": [
    "number_of_combinations = 5  # IMPORTANT\n",
    "\n",
    "random_combinations = random.sample(list(itertools.product(*hyperparameters.values())), number_of_combinations) "
   ]
  },
  {
   "cell_type": "code",
   "execution_count": 28,
   "id": "78274400",
   "metadata": {},
   "outputs": [
    {
     "name": "stdout",
     "output_type": "stream",
     "text": [
      "Testing with hyperparameters: {'learning_rate': 0.0005, 'batch_size': 32, 'dropout': 0.3, 'kr': 0.0005, 'layer_size': 128, 'layer_mul': 2}\n",
      "WARNING:tensorflow:From C:\\Users\\gabri\\AppData\\Local\\Packages\\PythonSoftwareFoundation.Python.3.11_qbz5n2kfra8p0\\LocalCache\\local-packages\\Python311\\site-packages\\keras\\src\\backend.py:873: The name tf.get_default_graph is deprecated. Please use tf.compat.v1.get_default_graph instead.\n",
      "\n",
      "WARNING:tensorflow:From C:\\Users\\gabri\\AppData\\Local\\Packages\\PythonSoftwareFoundation.Python.3.11_qbz5n2kfra8p0\\LocalCache\\local-packages\\Python311\\site-packages\\keras\\src\\utils\\tf_utils.py:492: The name tf.ragged.RaggedTensorValue is deprecated. Please use tf.compat.v1.ragged.RaggedTensorValue instead.\n",
      "\n",
      "WARNING:tensorflow:From C:\\Users\\gabri\\AppData\\Local\\Packages\\PythonSoftwareFoundation.Python.3.11_qbz5n2kfra8p0\\LocalCache\\local-packages\\Python311\\site-packages\\keras\\src\\engine\\base_layer_utils.py:384: The name tf.executing_eagerly_outside_functions is deprecated. Please use tf.compat.v1.executing_eagerly_outside_functions instead.\n",
      "\n",
      "Result combo 0: 0.30195996165275574\n",
      "Testing with hyperparameters: {'learning_rate': 0.0005, 'batch_size': 32, 'dropout': 0.4, 'kr': 0.001, 'layer_size': 128, 'layer_mul': 3}\n",
      "Result combo 1: 0.32557812333106995\n",
      "Testing with hyperparameters: {'learning_rate': 0.001, 'batch_size': 32, 'dropout': 0.5, 'kr': 0.001, 'layer_size': 128, 'layer_mul': 3}\n",
      "Result combo 2: 0.3037225008010864\n",
      "Testing with hyperparameters: {'learning_rate': 0.001, 'batch_size': 32, 'dropout': 0.5, 'kr': 0.002, 'layer_size': 32, 'layer_mul': 2}\n",
      "Result combo 3: 0.28877609968185425\n",
      "Testing with hyperparameters: {'learning_rate': 0.0001, 'batch_size': 32, 'dropout': 0.5, 'kr': 0.0005, 'layer_size': 32, 'layer_mul': 2}\n",
      "Result combo 4: 0.31175974011421204\n",
      "Testing with hyperparameters: {'learning_rate': 0.001, 'batch_size': 32, 'dropout': 0.4, 'kr': 0.0005, 'layer_size': 32, 'layer_mul': 1}\n",
      "Result combo 5: 0.3089396357536316\n",
      "Testing with hyperparameters: {'learning_rate': 0.001, 'batch_size': 32, 'dropout': 0.3, 'kr': 0.0005, 'layer_size': 64, 'layer_mul': 1}\n",
      "Result combo 6: 0.312182754278183\n",
      "Testing with hyperparameters: {'learning_rate': 0.0001, 'batch_size': 32, 'dropout': 0.4, 'kr': 0.0005, 'layer_size': 128, 'layer_mul': 2}\n",
      "Result combo 7: 0.3220530152320862\n",
      "Testing with hyperparameters: {'learning_rate': 0.001, 'batch_size': 32, 'dropout': 0.3, 'kr': 0.001, 'layer_size': 128, 'layer_mul': 2}\n"
     ]
    },
    {
     "ename": "MemoryError",
     "evalue": "Unable to allocate 1.18 GiB for an array with shape (28795, 11037) and data type float32",
     "output_type": "error",
     "traceback": [
      "\u001b[1;31m---------------------------------------------------------------------------\u001b[0m",
      "\u001b[1;31mMemoryError\u001b[0m                               Traceback (most recent call last)",
      "Cell \u001b[1;32mIn[28], line 20\u001b[0m\n\u001b[0;32m     16\u001b[0m early_stopping \u001b[38;5;241m=\u001b[39m EarlyStopping(monitor\u001b[38;5;241m=\u001b[39m\u001b[38;5;124m'\u001b[39m\u001b[38;5;124mval_loss\u001b[39m\u001b[38;5;124m'\u001b[39m, patience\u001b[38;5;241m=\u001b[39m\u001b[38;5;241m5\u001b[39m, restore_best_weights\u001b[38;5;241m=\u001b[39m\u001b[38;5;28;01mTrue\u001b[39;00m)\n\u001b[0;32m     17\u001b[0m reduce_lr \u001b[38;5;241m=\u001b[39m ReduceLROnPlateau(monitor\u001b[38;5;241m=\u001b[39m\u001b[38;5;124m'\u001b[39m\u001b[38;5;124mval_loss\u001b[39m\u001b[38;5;124m'\u001b[39m, factor\u001b[38;5;241m=\u001b[39m\u001b[38;5;241m0.2\u001b[39m,\n\u001b[0;32m     18\u001b[0m                             patience\u001b[38;5;241m=\u001b[39m\u001b[38;5;241m3\u001b[39m, min_lr\u001b[38;5;241m=\u001b[39m\u001b[38;5;241m0.000001\u001b[39m)\n\u001b[1;32m---> 20\u001b[0m history \u001b[38;5;241m=\u001b[39m \u001b[43mmodel\u001b[49m\u001b[38;5;241;43m.\u001b[39;49m\u001b[43mfit\u001b[49m\u001b[43m(\u001b[49m\u001b[43mx_train\u001b[49m\u001b[43m,\u001b[49m\u001b[43m \u001b[49m\u001b[43my_train\u001b[49m\u001b[43m,\u001b[49m\u001b[43m \u001b[49m\u001b[43mvalidation_split\u001b[49m\u001b[38;5;241;43m=\u001b[39;49m\u001b[38;5;241;43m0.33\u001b[39;49m\u001b[43m,\u001b[49m\u001b[43m \u001b[49m\u001b[43mepochs\u001b[49m\u001b[38;5;241;43m=\u001b[39;49m\u001b[43mnumber_of_epochs\u001b[49m\u001b[43m,\u001b[49m\u001b[43m \u001b[49m\u001b[43mbatch_size\u001b[49m\u001b[38;5;241;43m=\u001b[39;49m\u001b[43mparam_dict\u001b[49m\u001b[43m[\u001b[49m\u001b[38;5;124;43m'\u001b[39;49m\u001b[38;5;124;43mbatch_size\u001b[39;49m\u001b[38;5;124;43m'\u001b[39;49m\u001b[43m]\u001b[49m\u001b[43m,\u001b[49m\u001b[43m \u001b[49m\u001b[43mverbose\u001b[49m\u001b[38;5;241;43m=\u001b[39;49m\u001b[38;5;241;43m0\u001b[39;49m\u001b[43m,\u001b[49m\u001b[43m \u001b[49m\u001b[43mcallbacks\u001b[49m\u001b[38;5;241;43m=\u001b[39;49m\u001b[43m[\u001b[49m\u001b[43mearly_stopping\u001b[49m\u001b[43m,\u001b[49m\u001b[43m \u001b[49m\u001b[43mreduce_lr\u001b[49m\u001b[43m]\u001b[49m\u001b[43m,\u001b[49m\u001b[43m \u001b[49m\u001b[43mworkers\u001b[49m\u001b[43m \u001b[49m\u001b[38;5;241;43m=\u001b[39;49m\u001b[43m \u001b[49m\u001b[38;5;241;43m6\u001b[39;49m\u001b[43m)\u001b[49m\n\u001b[0;32m     22\u001b[0m \u001b[38;5;28mprint\u001b[39m(\u001b[38;5;124m'\u001b[39m\u001b[38;5;124mResult combo \u001b[39m\u001b[38;5;132;01m{}\u001b[39;00m\u001b[38;5;124m:\u001b[39m\u001b[38;5;124m'\u001b[39m\u001b[38;5;241m.\u001b[39mformat(idx), history\u001b[38;5;241m.\u001b[39mhistory[\u001b[38;5;124m'\u001b[39m\u001b[38;5;124mval_accuracy\u001b[39m\u001b[38;5;124m'\u001b[39m][\u001b[38;5;241m-\u001b[39m\u001b[38;5;241m1\u001b[39m])\n\u001b[0;32m     23\u001b[0m \u001b[38;5;66;03m# Record the results\u001b[39;00m\n",
      "File \u001b[1;32m~\\AppData\\Local\\Packages\\PythonSoftwareFoundation.Python.3.11_qbz5n2kfra8p0\\LocalCache\\local-packages\\Python311\\site-packages\\keras\\src\\utils\\traceback_utils.py:70\u001b[0m, in \u001b[0;36mfilter_traceback.<locals>.error_handler\u001b[1;34m(*args, **kwargs)\u001b[0m\n\u001b[0;32m     67\u001b[0m     filtered_tb \u001b[38;5;241m=\u001b[39m _process_traceback_frames(e\u001b[38;5;241m.\u001b[39m__traceback__)\n\u001b[0;32m     68\u001b[0m     \u001b[38;5;66;03m# To get the full stack trace, call:\u001b[39;00m\n\u001b[0;32m     69\u001b[0m     \u001b[38;5;66;03m# `tf.debugging.disable_traceback_filtering()`\u001b[39;00m\n\u001b[1;32m---> 70\u001b[0m     \u001b[38;5;28;01mraise\u001b[39;00m e\u001b[38;5;241m.\u001b[39mwith_traceback(filtered_tb) \u001b[38;5;28;01mfrom\u001b[39;00m \u001b[38;5;28;01mNone\u001b[39;00m\n\u001b[0;32m     71\u001b[0m \u001b[38;5;28;01mfinally\u001b[39;00m:\n\u001b[0;32m     72\u001b[0m     \u001b[38;5;28;01mdel\u001b[39;00m filtered_tb\n",
      "File \u001b[1;32m~\\AppData\\Local\\Packages\\PythonSoftwareFoundation.Python.3.11_qbz5n2kfra8p0\\LocalCache\\local-packages\\Python311\\site-packages\\tensorflow\\python\\framework\\constant_op.py:91\u001b[0m, in \u001b[0;36mconvert_to_eager_tensor\u001b[1;34m(value, ctx, dtype)\u001b[0m\n\u001b[0;32m     71\u001b[0m \u001b[38;5;250m\u001b[39m\u001b[38;5;124;03m\"\"\"Converts the given `value` to an `EagerTensor`.\u001b[39;00m\n\u001b[0;32m     72\u001b[0m \n\u001b[0;32m     73\u001b[0m \u001b[38;5;124;03mNote that this function could return cached copies of created constants for\u001b[39;00m\n\u001b[1;32m   (...)\u001b[0m\n\u001b[0;32m     85\u001b[0m \u001b[38;5;124;03m  TypeError: if `dtype` is not compatible with the type of t.\u001b[39;00m\n\u001b[0;32m     86\u001b[0m \u001b[38;5;124;03m\"\"\"\u001b[39;00m\n\u001b[0;32m     87\u001b[0m \u001b[38;5;28;01mif\u001b[39;00m \u001b[38;5;28misinstance\u001b[39m(value, np\u001b[38;5;241m.\u001b[39mndarray):\n\u001b[0;32m     88\u001b[0m   \u001b[38;5;66;03m# Make a copy explicitly because the EagerTensor might share the underlying\u001b[39;00m\n\u001b[0;32m     89\u001b[0m   \u001b[38;5;66;03m# memory with the input array. Without this copy, users will be able to\u001b[39;00m\n\u001b[0;32m     90\u001b[0m   \u001b[38;5;66;03m# modify the EagerTensor after its creation by changing the input array.\u001b[39;00m\n\u001b[1;32m---> 91\u001b[0m   value \u001b[38;5;241m=\u001b[39m value\u001b[38;5;241m.\u001b[39mcopy()\n\u001b[0;32m     92\u001b[0m \u001b[38;5;28;01mif\u001b[39;00m \u001b[38;5;28misinstance\u001b[39m(value, ops\u001b[38;5;241m.\u001b[39mEagerTensor):\n\u001b[0;32m     93\u001b[0m   \u001b[38;5;28;01mif\u001b[39;00m dtype \u001b[38;5;129;01mis\u001b[39;00m \u001b[38;5;129;01mnot\u001b[39;00m \u001b[38;5;28;01mNone\u001b[39;00m \u001b[38;5;129;01mand\u001b[39;00m value\u001b[38;5;241m.\u001b[39mdtype \u001b[38;5;241m!=\u001b[39m dtype:\n",
      "\u001b[1;31mMemoryError\u001b[0m: Unable to allocate 1.18 GiB for an array with shape (28795, 11037) and data type float32"
     ]
    }
   ],
   "source": [
    "best_params = None\n",
    "best_model = None\n",
    "best_history = None\n",
    "best_accuracy = 0.0\n",
    "all_results = {}\n",
    "\n",
    "number_of_epochs = 20\n",
    "\n",
    "for idx, combo in enumerate(random_combinations):\n",
    "    param_dict = dict(zip(hyperparameters.keys(), combo))\n",
    "    print(\"Testing with hyperparameters:\", param_dict)\n",
    "\n",
    "    model = build_model_to_compare(param_dict)\n",
    "\n",
    "    #eraly stopping and decreasing lr\n",
    "    early_stopping = EarlyStopping(monitor='val_loss', patience=5, restore_best_weights=True)\n",
    "    reduce_lr = ReduceLROnPlateau(monitor='val_loss', factor=0.2,\n",
    "                                patience=3, min_lr=0.000001)\n",
    "\n",
    "    history = model.fit(x_train, y_train, validation_split=0.33, epochs=number_of_epochs, batch_size=param_dict['batch_size'], verbose=0, callbacks=[early_stopping, reduce_lr], workers = 6)\n",
    "\n",
    "    print('Result combo {}:'.format(idx), history.history['val_accuracy'][-1])\n",
    "    # Record the results\n",
    "    accuracy = max(history.history['val_accuracy'])\n",
    "    all_results[str(param_dict)] = accuracy\n",
    "\n",
    "    histories.append(history)\n",
    "    models.append(model)\n",
    "\n",
    "    # Update best parameters if the current combination is better\n",
    "    if accuracy > best_accuracy:\n",
    "        best_accuracy = accuracy\n",
    "        best_params = param_dict\n",
    "        best_history = history\n",
    "        best_model = model"
   ]
  },
  {
   "cell_type": "markdown",
   "id": "f78079d5",
   "metadata": {},
   "source": [
    "## Comparisons"
   ]
  },
  {
   "cell_type": "code",
   "execution_count": 31,
   "id": "bd9857e2",
   "metadata": {},
   "outputs": [],
   "source": [
    "# Plot training and validation loss\n",
    "def plot_comparison(history1, history2):\n",
    "    plt.figure(figsize=(12, 5))\n",
    "    plt.subplot(1, 2, 1)\n",
    "    plt.plot(history1.history['loss'], label='Model 1', c='aqua')   # history is basically an array with loss values over the time and accuracy\n",
    "    plt.plot(history1.history['val_loss'], label='Validation 1' ,linestyle='--', c='aquamarine')\n",
    "    plt.plot(history2.history['loss'], label='Model 2',c='red')\n",
    "    plt.plot(history2.history['val_loss'], label='Validation 2', linestyle='--', c='salmon')\n",
    "    plt.xlabel('Epoch')\n",
    "    plt.ylabel('Loss')\n",
    "    plt.legend()\n",
    "\n",
    "    # Plot training and validation accuracy\n",
    "    plt.subplot(1, 2, 2)\n",
    "    plt.plot(history1.history['accuracy'], label='Model 1', c='aqua')\n",
    "    plt.plot(history1.history['val_accuracy'], label='Validation 1' ,linestyle='--', c='aquamarine')\n",
    "    plt.plot(history2.history['accuracy'], label='Model 2',c='red')\n",
    "    plt.plot(history2.history['val_accuracy'], label='Validation 2', linestyle='--', c='salmon')\n",
    "    plt.xlabel('Epoch')\n",
    "    plt.ylabel('Accuracy')\n",
    "    plt.legend()\n",
    "\n",
    "    plt.tight_layout()\n",
    "    plt.show()"
   ]
  },
  {
   "cell_type": "code",
   "execution_count": 33,
   "id": "a1eb1b14",
   "metadata": {},
   "outputs": [
    {
     "data": {
      "text/plain": [
       "8"
      ]
     },
     "execution_count": 33,
     "metadata": {},
     "output_type": "execute_result"
    }
   ],
   "source": [
    "len(histories)"
   ]
  },
  {
   "cell_type": "code",
   "execution_count": 34,
   "id": "d64757c1",
   "metadata": {},
   "outputs": [
    {
     "data": {
      "text/plain": [
       "{\"{'learning_rate': 0.0005, 'batch_size': 32, 'dropout': 0.3, 'kr': 0.0005, 'layer_size': 128, 'layer_mul': 2}\": 0.33608290553092957,\n",
       " \"{'learning_rate': 0.0005, 'batch_size': 32, 'dropout': 0.4, 'kr': 0.001, 'layer_size': 128, 'layer_mul': 3}\": 0.3364354074001312,\n",
       " \"{'learning_rate': 0.001, 'batch_size': 32, 'dropout': 0.5, 'kr': 0.001, 'layer_size': 128, 'layer_mul': 3}\": 0.32896220684051514,\n",
       " \"{'learning_rate': 0.001, 'batch_size': 32, 'dropout': 0.5, 'kr': 0.002, 'layer_size': 32, 'layer_mul': 2}\": 0.28948110342025757,\n",
       " \"{'learning_rate': 0.0001, 'batch_size': 32, 'dropout': 0.5, 'kr': 0.0005, 'layer_size': 32, 'layer_mul': 2}\": 0.31408628821372986,\n",
       " \"{'learning_rate': 0.001, 'batch_size': 32, 'dropout': 0.4, 'kr': 0.0005, 'layer_size': 32, 'layer_mul': 1}\": 0.31077268719673157,\n",
       " \"{'learning_rate': 0.001, 'batch_size': 32, 'dropout': 0.3, 'kr': 0.0005, 'layer_size': 64, 'layer_mul': 1}\": 0.33135926723480225,\n",
       " \"{'learning_rate': 0.0001, 'batch_size': 32, 'dropout': 0.4, 'kr': 0.0005, 'layer_size': 128, 'layer_mul': 2}\": 0.3367879390716553}"
      ]
     },
     "execution_count": 34,
     "metadata": {},
     "output_type": "execute_result"
    }
   ],
   "source": [
    "all_results"
   ]
  },
  {
   "cell_type": "code",
   "execution_count": 66,
   "id": "175f3fea",
   "metadata": {},
   "outputs": [
    {
     "data": {
      "image/png": "[encoded data removed]",
      "text/plain": [
       "<Figure size 1200x500 with 2 Axes>"
      ]
     },
     "metadata": {},
     "output_type": "display_data"
    }
   ],
   "source": [
    "model1, model2 = 4, 7   # select which models you want to compare from history\n",
    "plot_comparison(histories[model1], histories[model2])"
   ]
  },
  {
   "cell_type": "code",
   "execution_count": 37,
   "id": "5e9330e8",
   "metadata": {},
   "outputs": [
    {
     "data": {
      "text/plain": [
       "[<keras.src.callbacks.History at 0x1960218bf90>,\n",
       " <keras.src.callbacks.History at 0x1960ba7d010>,\n",
       " <keras.src.callbacks.History at 0x1960ba896d0>,\n",
       " <keras.src.callbacks.History at 0x196150e7fd0>,\n",
       " <keras.src.callbacks.History at 0x196151382d0>,\n",
       " <keras.src.callbacks.History at 0x196151b82d0>,\n",
       " <keras.src.callbacks.History at 0x196153882d0>,\n",
       " <keras.src.callbacks.History at 0x196154e16d0>]"
      ]
     },
     "execution_count": 37,
     "metadata": {},
     "output_type": "execute_result"
    }
   ],
   "source": []
  },
  {
   "cell_type": "markdown",
   "id": "8c76dab6",
   "metadata": {},
   "source": [
    "#### Model 4:"
   ]
  },
  {
   "cell_type": "code",
   "execution_count": 63,
   "id": "ab43c069",
   "metadata": {},
   "outputs": [
    {
     "name": "stdout",
     "output_type": "stream",
     "text": [
      "338/338 [==============================] - 1s 3ms/step\n"
     ]
    }
   ],
   "source": [
    "# YOU NEED TO IMPORT TEST BEFORE (see last section)\n",
    "\n",
    "#insert the best model\n",
    "predictions = models[4].predict(x_test)"
   ]
  },
  {
   "cell_type": "code",
   "execution_count": 64,
   "id": "26e21d64",
   "metadata": {},
   "outputs": [
    {
     "name": "stdout",
     "output_type": "stream",
     "text": [
      "              precision    recall  f1-score   support\n",
      "\n",
      "         0.0       0.25      0.18      0.21      1080\n",
      "         1.0       0.25      0.08      0.12      1080\n",
      "         2.0       0.32      0.51      0.39      1080\n",
      "         3.0       0.33      0.51      0.40      1080\n",
      "         4.0       0.24      0.19      0.21      1080\n",
      "         5.0       0.35      0.49      0.40      1080\n",
      "         6.0       0.28      0.19      0.23      1080\n",
      "         7.0       0.43      0.53      0.48      1080\n",
      "         8.0       0.33      0.49      0.40      1080\n",
      "         9.0       0.24      0.06      0.10      1080\n",
      "\n",
      "    accuracy                           0.32     10800\n",
      "   macro avg       0.30      0.32      0.29     10800\n",
      "weighted avg       0.30      0.32      0.29     10800\n",
      "\n"
     ]
    }
   ],
   "source": [
    "from sklearn.metrics import classification_report\n",
    "predicted_labels = np.argmax(predictions, axis=1)\n",
    "\n",
    "print(classification_report(y_test, predicted_labels))"
   ]
  },
  {
   "cell_type": "code",
   "execution_count": 61,
   "id": "0de4c27c",
   "metadata": {},
   "outputs": [
    {
     "data": {
      "text/plain": [
       "{0: 'action',\n",
       " 1: 'adventure',\n",
       " 2: 'crime',\n",
       " 3: 'family',\n",
       " 4: 'fantasy',\n",
       " 5: 'horror',\n",
       " 6: 'mystery',\n",
       " 7: 'romance',\n",
       " 8: 'scifi',\n",
       " 9: 'thriller'}"
      ]
     },
     "execution_count": 61,
     "metadata": {},
     "output_type": "execute_result"
    }
   ],
   "source": [
    "genres = np.unique(df['genre'])\n",
    "\n",
    "genre_mapping = {}\n",
    "for i, genre in enumerate(genres):\n",
    "    genre_mapping[i] = genre\n",
    "\n",
    "genre_mapping"
   ]
  },
  {
   "cell_type": "code",
   "execution_count": 65,
   "id": "757263f4",
   "metadata": {},
   "outputs": [
    {
     "data": {
      "image/png": "[encoded data removed]",
      "text/plain": [
       "<Figure size 1000x800 with 2 Axes>"
      ]
     },
     "metadata": {},
     "output_type": "display_data"
    }
   ],
   "source": [
    "from sklearn.metrics import confusion_matrix\n",
    "import seaborn as sns\n",
    "\n",
    "cf = confusion_matrix(y_true=y_test,y_pred=predicted_labels)\n",
    "plt.figure(figsize=(10, 8))\n",
    "ax = sns.heatmap(cf, annot=True, cmap=\"Oranges\", fmt='g')  # fmt='g' suppresses scientific notation\n",
    "\n",
    "# Map the numerical values to genres using the dictionary\n",
    "ax.set_xticklabels([genre_mapping.get(int(label.get_text()), \"\") for label in ax.get_xticklabels()])\n",
    "ax.set_yticklabels([genre_mapping.get(int(label.get_text()), \"\") for label in ax.get_yticklabels()])\n",
    "\n",
    "plt.xlabel(\"Predicted\")\n",
    "plt.ylabel(\"True\")\n",
    "plt.show()"
   ]
  },
  {
   "cell_type": "code",
   "execution_count": 71,
   "id": "a6c093dd",
   "metadata": {},
   "outputs": [
    {
     "name": "stdout",
     "output_type": "stream",
     "text": [
      "338/338 [==============================] - 1s 4ms/step - loss: 2.0031 - accuracy: 0.3220\n",
      "Test Loss 2.003131, Test Accuracy 0.322037\n"
     ]
    }
   ],
   "source": [
    "test_loss, test_acc = models[4].evaluate(x_test, y_test)\n",
    "print('Test Loss %f, Test Accuracy %f' % (test_loss, test_acc))"
   ]
  },
  {
   "cell_type": "markdown",
   "id": "817fe19a",
   "metadata": {},
   "source": [
    "#### Model 7:"
   ]
  },
  {
   "cell_type": "markdown",
   "id": "2a8c33a8",
   "metadata": {},
   "source": [
    "This is a model which overfits"
   ]
  },
  {
   "cell_type": "code",
   "execution_count": 58,
   "id": "52cb55ab",
   "metadata": {},
   "outputs": [
    {
     "name": "stdout",
     "output_type": "stream",
     "text": [
      "338/338 [==============================] - 2s 5ms/step\n"
     ]
    }
   ],
   "source": [
    "# YOU NEED TO IMPORT TEST BEFORE (see last section)\n",
    "\n",
    "#insert the best model\n",
    "predictions = models[7].predict(x_test)"
   ]
  },
  {
   "cell_type": "code",
   "execution_count": 59,
   "id": "10549ea1",
   "metadata": {},
   "outputs": [
    {
     "name": "stdout",
     "output_type": "stream",
     "text": [
      "              precision    recall  f1-score   support\n",
      "\n",
      "         0.0       0.26      0.27      0.26      1080\n",
      "         1.0       0.28      0.18      0.22      1080\n",
      "         2.0       0.33      0.44      0.38      1080\n",
      "         3.0       0.34      0.45      0.39      1080\n",
      "         4.0       0.30      0.19      0.23      1080\n",
      "         5.0       0.39      0.47      0.43      1080\n",
      "         6.0       0.28      0.28      0.28      1080\n",
      "         7.0       0.41      0.59      0.48      1080\n",
      "         8.0       0.41      0.51      0.45      1080\n",
      "         9.0       0.27      0.05      0.09      1080\n",
      "\n",
      "    accuracy                           0.34     10800\n",
      "   macro avg       0.33      0.34      0.32     10800\n",
      "weighted avg       0.33      0.34      0.32     10800\n",
      "\n"
     ]
    }
   ],
   "source": [
    "from sklearn.metrics import classification_report\n",
    "predicted_labels = np.argmax(predictions, axis=1)\n",
    "\n",
    "print(classification_report(y_test, predicted_labels))"
   ]
  },
  {
   "cell_type": "code",
   "execution_count": 62,
   "id": "18540264",
   "metadata": {},
   "outputs": [
    {
     "data": {
      "image/png": "[encoded data removed]",
      "text/plain": [
       "<Figure size 1000x800 with 2 Axes>"
      ]
     },
     "metadata": {},
     "output_type": "display_data"
    }
   ],
   "source": [
    "from sklearn.metrics import confusion_matrix\n",
    "import seaborn as sns\n",
    "\n",
    "cf = confusion_matrix(y_true=y_test,y_pred=predicted_labels)\n",
    "plt.figure(figsize=(10, 8))\n",
    "ax = sns.heatmap(cf, annot=True, cmap=\"Oranges\", fmt='g')  # fmt='g' suppresses scientific notation\n",
    "\n",
    "# Map the numerical values to genres using the dictionary\n",
    "ax.set_xticklabels([genre_mapping.get(int(label.get_text()), \"\") for label in ax.get_xticklabels()])\n",
    "ax.set_yticklabels([genre_mapping.get(int(label.get_text()), \"\") for label in ax.get_yticklabels()])\n",
    "\n",
    "plt.xlabel(\"Predicted\")\n",
    "plt.ylabel(\"True\")\n",
    "plt.show()"
   ]
  },
  {
   "cell_type": "code",
   "execution_count": 72,
   "id": "9355986b",
   "metadata": {},
   "outputs": [
    {
     "name": "stdout",
     "output_type": "stream",
     "text": [
      "338/338 [==============================] - 2s 5ms/step - loss: 2.0348 - accuracy: 0.3411\n",
      "Test Loss 2.034831, Test Accuracy 0.341111\n"
     ]
    }
   ],
   "source": [
    "test_loss, test_acc = models[7].evaluate(x_test, y_test)\n",
    "print('Test Loss %f, Test Accuracy %f' % (test_loss, test_acc))"
   ]
  },
  {
   "cell_type": "markdown",
   "id": "649c199a",
   "metadata": {},
   "source": [
    "## Test"
   ]
  },
  {
   "cell_type": "code",
   "execution_count": 38,
   "id": "c764c441",
   "metadata": {},
   "outputs": [
    {
     "name": "stdout",
     "output_type": "stream",
     "text": [
      "-------------\n",
      "Number of unique tokens: 11037\n",
      "Number of documents: 10800\n",
      "(11037, 10800)\n"
     ]
    },
    {
     "data": {
      "text/html": [
       "<div>\n",
       "<style scoped>\n",
       "    .dataframe tbody tr th:only-of-type {\n",
       "        vertical-align: middle;\n",
       "    }\n",
       "\n",
       "    .dataframe tbody tr th {\n",
       "        vertical-align: top;\n",
       "    }\n",
       "\n",
       "    .dataframe thead th {\n",
       "        text-align: right;\n",
       "    }\n",
       "</style>\n",
       "<table border=\"1\" class=\"dataframe\">\n",
       "  <thead>\n",
       "    <tr style=\"text-align: right;\">\n",
       "      <th></th>\n",
       "      <th>brother</th>\n",
       "      <th>cleric</th>\n",
       "      <th>earl</th>\n",
       "      <th>enlists</th>\n",
       "      <th>find</th>\n",
       "      <th>learning</th>\n",
       "      <th>life</th>\n",
       "      <th>love</th>\n",
       "      <th>save</th>\n",
       "      <th>sweetheart</th>\n",
       "      <th>...</th>\n",
       "      <th>resurrects</th>\n",
       "      <th>waning</th>\n",
       "      <th>papua</th>\n",
       "      <th>taiwanese</th>\n",
       "      <th>greene</th>\n",
       "      <th>offline</th>\n",
       "      <th>yeong</th>\n",
       "      <th>perpetrated</th>\n",
       "      <th>cosmopolitan</th>\n",
       "      <th>label</th>\n",
       "    </tr>\n",
       "    <tr>\n",
       "      <th>synopsis</th>\n",
       "      <th></th>\n",
       "      <th></th>\n",
       "      <th></th>\n",
       "      <th></th>\n",
       "      <th></th>\n",
       "      <th></th>\n",
       "      <th></th>\n",
       "      <th></th>\n",
       "      <th></th>\n",
       "      <th></th>\n",
       "      <th></th>\n",
       "      <th></th>\n",
       "      <th></th>\n",
       "      <th></th>\n",
       "      <th></th>\n",
       "      <th></th>\n",
       "      <th></th>\n",
       "      <th></th>\n",
       "      <th></th>\n",
       "      <th></th>\n",
       "      <th></th>\n",
       "    </tr>\n",
       "  </thead>\n",
       "  <tbody>\n",
       "    <tr>\n",
       "      <th>A children's movie about the adventures of a young sister and brother after they find a pair of magic sunglasses which are later stolen by two local bullies, and the life lessons they learn.</th>\n",
       "      <td>1.0</td>\n",
       "      <td>0.0</td>\n",
       "      <td>0.0</td>\n",
       "      <td>0.0</td>\n",
       "      <td>1.0</td>\n",
       "      <td>0.0</td>\n",
       "      <td>1.0</td>\n",
       "      <td>0.0</td>\n",
       "      <td>0.0</td>\n",
       "      <td>0.0</td>\n",
       "      <td>...</td>\n",
       "      <td>0.0</td>\n",
       "      <td>0.0</td>\n",
       "      <td>0.0</td>\n",
       "      <td>0.0</td>\n",
       "      <td>0.0</td>\n",
       "      <td>0.0</td>\n",
       "      <td>0.0</td>\n",
       "      <td>0.0</td>\n",
       "      <td>0.0</td>\n",
       "      <td>family</td>\n",
       "    </tr>\n",
       "    <tr>\n",
       "      <th>Tara is in love with Krishna, who is her college friend but he does not reciprocate her feelings. Things take a turn when Krishna falls in love with Lizy.</th>\n",
       "      <td>0.0</td>\n",
       "      <td>0.0</td>\n",
       "      <td>0.0</td>\n",
       "      <td>0.0</td>\n",
       "      <td>0.0</td>\n",
       "      <td>0.0</td>\n",
       "      <td>0.0</td>\n",
       "      <td>2.0</td>\n",
       "      <td>0.0</td>\n",
       "      <td>0.0</td>\n",
       "      <td>...</td>\n",
       "      <td>0.0</td>\n",
       "      <td>0.0</td>\n",
       "      <td>0.0</td>\n",
       "      <td>0.0</td>\n",
       "      <td>0.0</td>\n",
       "      <td>0.0</td>\n",
       "      <td>0.0</td>\n",
       "      <td>0.0</td>\n",
       "      <td>0.0</td>\n",
       "      <td>romance</td>\n",
       "    </tr>\n",
       "  </tbody>\n",
       "</table>\n",
       "<p>2 rows × 11038 columns</p>\n",
       "</div>"
      ],
      "text/plain": [
       "                                                    brother  cleric  earl  \\\n",
       "synopsis                                                                    \n",
       "A children's movie about the adventures of a yo...      1.0     0.0   0.0   \n",
       "Tara is in love with Krishna, who is her colleg...      0.0     0.0   0.0   \n",
       "\n",
       "                                                    enlists  find  learning  \\\n",
       "synopsis                                                                      \n",
       "A children's movie about the adventures of a yo...      0.0   1.0       0.0   \n",
       "Tara is in love with Krishna, who is her colleg...      0.0   0.0       0.0   \n",
       "\n",
       "                                                    life  love  save  \\\n",
       "synopsis                                                               \n",
       "A children's movie about the adventures of a yo...   1.0   0.0   0.0   \n",
       "Tara is in love with Krishna, who is her colleg...   0.0   2.0   0.0   \n",
       "\n",
       "                                                    sweetheart  ...  \\\n",
       "synopsis                                                        ...   \n",
       "A children's movie about the adventures of a yo...         0.0  ...   \n",
       "Tara is in love with Krishna, who is her colleg...         0.0  ...   \n",
       "\n",
       "                                                    resurrects  waning  papua  \\\n",
       "synopsis                                                                        \n",
       "A children's movie about the adventures of a yo...         0.0     0.0    0.0   \n",
       "Tara is in love with Krishna, who is her colleg...         0.0     0.0    0.0   \n",
       "\n",
       "                                                    taiwanese  greene  \\\n",
       "synopsis                                                                \n",
       "A children's movie about the adventures of a yo...        0.0     0.0   \n",
       "Tara is in love with Krishna, who is her colleg...        0.0     0.0   \n",
       "\n",
       "                                                    offline  yeong  \\\n",
       "synopsis                                                             \n",
       "A children's movie about the adventures of a yo...      0.0    0.0   \n",
       "Tara is in love with Krishna, who is her colleg...      0.0    0.0   \n",
       "\n",
       "                                                    perpetrated  cosmopolitan  \\\n",
       "synopsis                                                                        \n",
       "A children's movie about the adventures of a yo...          0.0           0.0   \n",
       "Tara is in love with Krishna, who is her colleg...          0.0           0.0   \n",
       "\n",
       "                                                      label  \n",
       "synopsis                                                     \n",
       "A children's movie about the adventures of a yo...   family  \n",
       "Tara is in love with Krishna, who is her colleg...  romance  \n",
       "\n",
       "[2 rows x 11038 columns]"
      ]
     },
     "execution_count": 38,
     "metadata": {},
     "output_type": "execute_result"
    }
   ],
   "source": [
    "# Custom fnction\n",
    "corpus_test, _ = gensim_cleaner_ALT(df_test['synopsis'], dictionary_creation=False, dictionary=dictionary)\n",
    "\n",
    "synopsis_test = df_test['synopsis']\n",
    "\n",
    "# using the bags of words\n",
    "numpy_matrix = gensim.matutils.corpus2dense(corpus_test, num_terms = len(dictionary))\n",
    "print(numpy_matrix.shape)\n",
    "\n",
    "df_test_c2d = pd.DataFrame(numpy_matrix, index = [k for k,v in dictionary.token2id.items()], columns = synopsis_test)\n",
    "\n",
    "df_test_nn = df_test_c2d.T\n",
    "\n",
    "df_test_nn['label'] = list(df_test['genre'])\n",
    "df_test_nn.head(2)"
   ]
  },
  {
   "cell_type": "code",
   "execution_count": 39,
   "id": "d0a75378",
   "metadata": {},
   "outputs": [
    {
     "name": "stdout",
     "output_type": "stream",
     "text": [
      "(10800, 11037)\n",
      "(10800,)\n"
     ]
    }
   ],
   "source": [
    "df_nn_test = df_test_nn.copy()\n",
    "\n",
    "# Label Encoding\n",
    "le = LabelEncoder()\n",
    "cat_cols = ['label']\n",
    "\n",
    "for col in cat_cols:\n",
    "    df_nn_test[col] = le.fit_transform(df_nn_test[col])   # se faccio metodo dummy avrei altre 8 colonne in più. cosi rimane una\n",
    "\n",
    "# X and y (labels) splitting\n",
    "y_test = df_nn_test.values[:, -1]\n",
    "df_nn_test.drop(['label'], axis=1, inplace=True)\n",
    "\n",
    "x_test = df_nn_test.values\n",
    "cols_test = df_nn_test.columns   #columns labels\n",
    "\n",
    "print(x_test.shape)\n",
    "print(y_test.shape)"
   ]
  }
 ],
 "metadata": {
  "kernelspec": {
   "display_name": "Python 3 (ipykernel)",
   "language": "python",
   "name": "python3"
  },
  "language_info": {
   "codemirror_mode": {
    "name": "ipython",
    "version": 3
   },
   "file_extension": ".py",
   "mimetype": "text/x-python",
   "name": "python",
   "nbconvert_exporter": "python",
   "pygments_lexer": "ipython3",
   "version": "3.11.7"
  }
 },
 "nbformat": 4,
 "nbformat_minor": 5
}
